{
 "cells": [
  {
   "cell_type": "markdown",
   "metadata": {
    "id": "AINy1XvV068i"
   },
   "source": [
    "# Assignment 1 - NLTK"
   ]
  },
  {
   "cell_type": "markdown",
   "metadata": {
    "id": "4AwKzSPj003p"
   },
   "source": [
    "\n",
    "\n",
    "Given a collection of documents, conduct text preprocessing including tokenization, stop words removal, stemming, tf-idf calculation, and pairwise cosine similarity calculation using NLTK.\n",
    "\n",
    "---\n",
    "\n",
    "Matthew Acs\n"
   ]
  },
  {
   "cell_type": "markdown",
   "metadata": {
    "id": "ANZ0RcZa63Fu"
   },
   "source": [
    "## **Part 1**\n",
    "\n",
    "### Install Python and NLTK"
   ]
  },
  {
   "cell_type": "markdown",
   "metadata": {
    "id": "WUgZYSm7cLIT"
   },
   "source": [
    "![0*zKRz1UgqpOZ4bvuA.png](data:image/png;base64,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)"
   ]
  },
  {
   "cell_type": "markdown",
   "metadata": {
    "id": "z4VvSsJlcDLC"
   },
   "source": [
    "*NLTK and python can be configured on a cloud based Jupyter notebook such as Google Colab.*\n",
    "\n",
    "---"
   ]
  },
  {
   "cell_type": "markdown",
   "metadata": {
    "id": "aMwASO-sg2lz"
   },
   "source": [
    "The code below installs NLTK and related dependencies."
   ]
  },
  {
   "cell_type": "code",
   "execution_count": null,
   "metadata": {
    "colab": {
     "base_uri": "https://localhost:8080/"
    },
    "id": "pszYBGpEzaft",
    "outputId": "d2d158d8-a2f5-4bc5-955a-5515e358a1e3"
   },
   "outputs": [
    {
     "name": "stderr",
     "output_type": "stream",
     "text": [
      "[nltk_data] Downloading package punkt to /root/nltk_data...\n",
      "[nltk_data]   Unzipping tokenizers/punkt.zip.\n",
      "[nltk_data] Downloading package stopwords to /root/nltk_data...\n",
      "[nltk_data]   Unzipping corpora/stopwords.zip.\n"
     ]
    },
    {
     "data": {
      "text/plain": [
       "True"
      ]
     },
     "execution_count": 1,
     "metadata": {},
     "output_type": "execute_result"
    }
   ],
   "source": [
    "import nltk\n",
    "from nltk.tokenize import word_tokenize\n",
    "from nltk.corpus import stopwords\n",
    "from nltk.stem import PorterStemmer\n",
    "from nltk.tokenize import word_tokenize\n",
    "\n",
    "nltk.download('punkt')\n",
    "nltk.download('stopwords')"
   ]
  },
  {
   "cell_type": "markdown",
   "metadata": {
    "id": "5ugh02XchL8m"
   },
   "source": [
    "The code below downloads the text data from a GitHub repository and prints it."
   ]
  },
  {
   "cell_type": "code",
   "execution_count": null,
   "metadata": {
    "colab": {
     "base_uri": "https://localhost:8080/"
    },
    "id": "oEkGf0GZ73nH",
    "outputId": "1f24bb01-fea1-4afe-902e-578a8961edab"
   },
   "outputs": [
    {
     "name": "stdout",
     "output_type": "stream",
     "text": [
      "Text 1\n",
      "------\n",
      "Channel tunnel operator Eurotunnel on Monday announced details of a deal giving bank creditors 45.5\n",
      "percent of the company in return for wiping out 1.0 billion pounds ($1.6 billion) of its massive\n",
      "debts. The long-awaited but highly complex restructuring of nearly nearly nine billion pounds of\n",
      "debt and unpaid interest throws the company a lifeline which could secure what is still likely to be\n",
      "a difficult future. The deal, announced simultaneously in Paris and London, brings the company back\n",
      "from the brink of bankruptcy but leaves current shareholders, who have already seen their investment\n",
      "dwindle, owning only 54.5 percent of the company. \"We have fixed and capped the interest payments\n",
      "and arranged only to pay what is available in cash,\" Eurotunnel co-chairman Alastair Morton told\n",
      "reporters at a news conference. \"Avoiding having to do this again is the name of the game.\" Morton\n",
      "said the plan provides the Anglo-French company with the medium term financial stability to\n",
      "consolidate its commercial position and develop its operations, adding that the firm was now making\n",
      "a profit before interest. Although shareholders will see their holdings diluted, they were offered\n",
      "the prospect of a brighter future and urged to be patient after months of uncertainty while\n",
      "Eurotunnel wrestled to reduce the crippling interest payments negotiated during the tunnel's\n",
      "construction. Eurotunnel, which has taken around half of the market in the busiest cross-Channel\n",
      "route from the European ferry companies, said a strong operating performance could allow it to pay\n",
      "its first dividend within the next 10 years. French co-chairman Patrick Ponsolle told reporters at a\n",
      "Paris news conference that the dividend could come as early as 2004 if the company performed \"very\n",
      "well\". Eurotunnel and the banks have come up with an ingenious formula to help the company get over\n",
      "the early years of the deal when, despite the swaps of debt for equity and bonds, it will still not\n",
      "be able to afford the annual interest bill of 400 million pounds. If its revenue, after costs and\n",
      "depreciation, is less than 400 million pounds, then the company will issue \"Stabilisation notes\" to\n",
      "a maximum of 1.85 billion pounds to the banks. Eurotunnel would not pay interest on these notes\n",
      "(which would constitute a debt issue) for ten years. Analysts said that under the deal, Eurotunnel's\n",
      "ability to finance its debt would become sustainable, at least for a few years. \"If you look at the\n",
      "current cash flow of between 150 and 200 million pounds a year, what they can't find (to meet the\n",
      "bill) they will roll forward into the stabilisation notes, and they can keep that going for seven,\n",
      "eight, nine years,\" said an analyst at one major investment bank. \"So they are here for that time,\"\n",
      "he added. The company said in a statement there was still considerable work to be done to finalise\n",
      "and agree the details of the plan before it can be submitted to shareholders and the bank group for\n",
      "approval, probably early in the Spring of 1997. Eurotunnel said the debt-for-equity swap would be at\n",
      "130 pence, or 10.40 francs, per share -- considerably below the level of 160 pence widely reported\n",
      "in the run up to the deal The company said a further 3.7 billion pounds of debt would be converted\n",
      "into new financial instruments and existing shareholders would be able to participate in this issue.\n",
      "If they choose not to take up free warrants entitling them to subscribe to this, Eurotunnel said\n",
      "shareholders' interests may be reduced further to just over 39 percent of the company by the end of\n",
      "December 2003. Eurotunnel's shares, which were suspended last week at 113.5 pence ahead of Monday's\n",
      "announcement, will resume trading on Tuesday. Shareholders and all 225 creditor banks have to agree\n",
      "the deal. \"I'm hopeful but I'm not taking it (approval) for granted,\" Morton admitted, \"Shareholders\n",
      "are pretty angry in France.\" Asked what would happen if the banks reject the deal, Morton said,\n",
      "\"Nobody wants a collapse, nobody wants a doomsday scenario.\" ($1=.6393 Pound)\n",
      "\n",
      "Text 2\n",
      "------\n",
      "Anglo-French Channel Tunnel operator Eurotunnel Monday announced a deal giving its creditor banks\n",
      "45.5 percent of the company in return for wiping out one billion pounds ($1.56 billion) of its debt.\n",
      "The long-awaited restructuring brings to an end months of wrangling between Eurotunnel and the 225\n",
      "banks to which it owes nearly nine billion pounds ($14.1 billion). The deal, announced\n",
      "simultaneously in Paris and London, brings the company back from the brink of insolvency but leaves\n",
      "shareholders owning only 54.5 percent of the company. \"The restructuring plan provides Eurotunnel\n",
      "with the medium-term financial stability to allow it to consolidate its substantial commercial\n",
      "achievements to date and to develop its operations,\" Eurotunnel co- chairman Alastair Morton said.\n",
      "The firm was now making a profit before interest, he added. Although shareholders will see their\n",
      "interests diluted, they were offered the prospect of a brighter future after months of uncertainty\n",
      "while Eurotunnel wrestled to reduce crippling interest payments negotiated during the tunnel's\n",
      "construction. Eurotunnel, which has taken around half the cross-Channel market from the European\n",
      "ferry companies, said a strong operating performance could allow it to pay its first dividend within\n",
      "the next 10 years. French co-chairman Patrick Ponsolle said shareholders would have to be patient\n",
      "before they could reap the benefits of the company's success. He called the debt restructuring plan\n",
      "\"an acceptable compromise\" for holders of Eurotunnel shares. The company said there was still\n",
      "considerable work to be done to finalise and agree on the details of the plan before it can be\n",
      "submitted to shareholders and the full 225 bank syndicate for approval, probably early in 1997.\n",
      "Monday's announcement followed two weeks of highly secretive negotiations between Eurotunnel and its\n",
      "six leading banks. This was extended to the 24 \"instructing banks\" at a meeting late last week in\n",
      "London. Eurotunnel said the debt-for-equity swap would be at 130 pence, or 10.40 francs, per share.\n",
      "That is considerably below the level of around 160 pence widely reported before announcement of the\n",
      "deal, and will reduce outstanding debt of 8.7 billion pounds ($13.6 billion) by 1.0 billion ($1.56\n",
      "billion). The company said a further 3.7 billion pounds ($5.8 billion) of debt would be converted\n",
      "into new financial instruments and existing shareholders would be able to participate in this issue.\n",
      "If they choose not to take up free warrants entitling them to subscribe to this, Eurotunnel said\n",
      "shareholders' interests may be reduced further to just over 39 percent of the company by the end of\n",
      "December 2003. Eurotunnel's shares, which were suspended last week at 113.5 pence ahead of Monday's\n",
      "announcement, should resume trading on Tuesday, the company said.\n",
      "\n",
      "Text 3\n",
      "------\n",
      "Anglo-French Channel Tunnel operator Eurotunnel on Monday announced a deal giving creditor banks\n",
      "45.5 percent of the company in return for wiping out one billion pounds ($1.56 billion) of its debt\n",
      "mountain. The long-awaited restructuring brings to an end months of wrangling between Eurotunnel and\n",
      "the 225 banks to which it owes nearly nine billion pounds. The deal, announced simultaneously in\n",
      "Paris and London, brings the company back from the brink of insolvency but leaves shareholders\n",
      "owning only 54.5 percent of the company. \"The restructuring plan provides Eurotunnel with the medium\n",
      "term financial stability to allow it to consolidate its substantial commercial achievements to date\n",
      "and to develop its operations,\" Eurotunnel co- chairman Alastair Morton said. The firm was now\n",
      "making a profit before interest, he added. Although shareholders will see their interests diluted,\n",
      "they were offered the prospect of a brighter future after months of uncertainty while Eurotunnel\n",
      "wrestled to reduce crippling interest payments negotiated during the tunnel's construction.\n",
      "Eurotunnel, which has taken around half the cross-Channel market from the European ferry companies,\n",
      "said a strong operating performance could allow it to pay its first dividend within the next 10\n",
      "years. French co-chairman Patrick Ponsolle said shareholders would have to be patient before they\n",
      "could reap the benefits of the company's success. He called the debt restructuring plan \"an\n",
      "acceptable compromise\" for holders of Eurotunnel shares. The company said in a statement there was\n",
      "still considerable work to be done to finalise and agree the details of the plan before it can be\n",
      "submitted to shareholders and the full 225 bank syndicate for approval, probably early in 1997.\n",
      "Monday's announcement followed two weeks of highly secretive negotiations between Eurotunnel and its\n",
      "six leading banks. This was extended to the 24 \"instructing banks\" at a meeting late last week in\n",
      "London. Eurotunnel said the debt-for-equity swap would be at 130 pence, or 10.40 francs, per share.\n",
      "That is considerably below the level of around 160 pence widely reported in the run up to the deal,\n",
      "and will reduce outstanding debt of 8.7 billion pounds by 1.0 billion. The company said a further\n",
      "3.7 billion pounds of debt would be converted into new financial instruments and existing\n",
      "shareholders would be able to participate in this issue. If they choose not to take up free warrants\n",
      "entitling them to subscribe to this, Eurotunnel said shareholders' interests may be reduced further\n",
      "to just over 39 percent of the company by the end of December 2003. Eurotunnel's shares, which were\n",
      "suspended last week at 113.5 pence ahead of Monday's announcement, should resume trading on Tuesday,\n",
      "the company said. ($1=.6393 Pound)\n"
     ]
    }
   ],
   "source": [
    "import requests\n",
    "import textwrap\n",
    "\n",
    "url = 'https://raw.githubusercontent.com/matthewaaa123/CAP-6776-6640/main/text_1.txt'\n",
    "text_1 = requests.get(url).text\n",
    "\n",
    "url = 'https://raw.githubusercontent.com/matthewaaa123/CAP-6776-6640/main/text_2.txt'\n",
    "text_2 = requests.get(url).text\n",
    "\n",
    "url = 'https://raw.githubusercontent.com/matthewaaa123/CAP-6776-6640/main/text_3.txt'\n",
    "text_3 = requests.get(url).text\n",
    "\n",
    "print(\"Text 1\")\n",
    "print(\"------\")\n",
    "print(textwrap.fill(text_1, width=100))\n",
    "print()\n",
    "\n",
    "print(\"Text 2\")\n",
    "print(\"------\")\n",
    "print(textwrap.fill(text_2, width=100))\n",
    "print()\n",
    "\n",
    "print(\"Text 3\")\n",
    "print(\"------\")\n",
    "print(textwrap.fill(text_3, width=100))"
   ]
  },
  {
   "cell_type": "markdown",
   "metadata": {
    "id": "kCqCUWrd6-jA"
   },
   "source": [
    "## **Part 2**\n",
    "\n",
    "### Tokenize the documents into words, remove stop words, and conduct stemming"
   ]
  },
  {
   "cell_type": "markdown",
   "metadata": {
    "id": "PwHM4IbMc4oW"
   },
   "source": [
    "![0*EKgminT7W-0R4Iae.png](data:image/png;base64,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)"
   ]
  },
  {
   "cell_type": "markdown",
   "metadata": {
    "id": "s28yycUzc42L"
   },
   "source": [
    "*Preprocessing is an important step before tf-idf vectors can be computed.*\n",
    "\n",
    "---"
   ]
  },
  {
   "cell_type": "markdown",
   "metadata": {
    "id": "WQ8wauJ1j3pO"
   },
   "source": [
    "The code below tokenizes the text documents into words, removes stop words, and then applies stemming using the porter stemming algorithm."
   ]
  },
  {
   "cell_type": "code",
   "execution_count": null,
   "metadata": {
    "id": "pAdMqjAIjt1H"
   },
   "outputs": [],
   "source": [
    "ps = PorterStemmer()\n",
    "\n",
    "stop_words = set(stopwords.words(\"english\"))\n",
    "\n",
    "text_1_tokenized = word_tokenize(text_1)\n",
    "text_1_processed = []\n",
    "\n",
    "text_2_tokenized = word_tokenize(text_2)\n",
    "text_2_processed = []\n",
    "\n",
    "text_3_tokenized = word_tokenize(text_3)\n",
    "text_3_processed = []\n",
    "\n",
    "for w in text_1_tokenized:\n",
    "  if w not in stop_words:\n",
    "    text_1_processed.append(ps.stem(w))\n",
    "\n",
    "for w in text_2_tokenized:\n",
    "  if w not in stop_words:\n",
    "    text_2_processed.append(ps.stem(w))\n",
    "\n",
    "for w in text_3_tokenized:\n",
    "  if w not in stop_words:\n",
    "    text_3_processed.append(ps.stem(w))"
   ]
  },
  {
   "cell_type": "markdown",
   "metadata": {
    "id": "eJhg5LlUkVRO"
   },
   "source": [
    "The code below prints the tokens of each document."
   ]
  },
  {
   "cell_type": "code",
   "execution_count": null,
   "metadata": {
    "colab": {
     "base_uri": "https://localhost:8080/"
    },
    "id": "rSOnXJjLjv0Z",
    "outputId": "e9c7eadf-0ff7-4583-c4de-ce22afe4a056"
   },
   "outputs": [
    {
     "name": "stdout",
     "output_type": "stream",
     "text": [
      "Text 1 Tokens\n",
      "----------------\n",
      "['channel', 'tunnel', 'oper', 'eurotunnel', 'monday', 'announc', 'detail', 'deal', 'give', 'bank', 'creditor', '45.5', 'percent', 'compani', 'return', 'wipe', '1.0', 'billion', 'pound', '(', '$', '1.6', 'billion', ')', 'massiv', 'debt', '.', 'the', 'long-await', 'highli', 'complex', 'restructur', 'nearli', 'nearli', 'nine', 'billion', 'pound', 'debt', 'unpaid', 'interest', 'throw', 'compani', 'lifelin', 'could', 'secur', 'still', 'like', 'difficult', 'futur', '.', 'the', 'deal', ',', 'announc', 'simultan', 'pari', 'london', ',', 'bring', 'compani', 'back', 'brink', 'bankruptci', 'leav', 'current', 'sharehold', ',', 'alreadi', 'seen', 'invest', 'dwindl', ',', 'own', '54.5', 'percent', 'compani', '.', '``', 'we', 'fix', 'cap', 'interest', 'payment', 'arrang', 'pay', 'avail', 'cash', ',', \"''\", 'eurotunnel', 'co-chairman', 'alastair', 'morton', 'told', 'report', 'news', 'confer', '.', '``', 'avoid', 'name', 'game', '.', \"''\", 'morton', 'said', 'plan', 'provid', 'anglo-french', 'compani', 'medium', 'term', 'financi', 'stabil', 'consolid', 'commerci', 'posit', 'develop', 'oper', ',', 'ad', 'firm', 'make', 'profit', 'interest', '.', 'although', 'sharehold', 'see', 'hold', 'dilut', ',', 'offer', 'prospect', 'brighter', 'futur', 'urg', 'patient', 'month', 'uncertainti', 'eurotunnel', 'wrestl', 'reduc', 'crippl', 'interest', 'payment', 'negoti', 'tunnel', \"'s\", 'construct', '.', 'eurotunnel', ',', 'taken', 'around', 'half', 'market', 'busiest', 'cross-channel', 'rout', 'european', 'ferri', 'compani', ',', 'said', 'strong', 'oper', 'perform', 'could', 'allow', 'pay', 'first', 'dividend', 'within', 'next', '10', 'year', '.', 'french', 'co-chairman', 'patrick', 'ponsol', 'told', 'report', 'pari', 'news', 'confer', 'dividend', 'could', 'come', 'earli', '2004', 'compani', 'perform', '``', 'well', \"''\", '.', 'eurotunnel', 'bank', 'come', 'ingeni', 'formula', 'help', 'compani', 'get', 'earli', 'year', 'deal', ',', 'despit', 'swap', 'debt', 'equiti', 'bond', ',', 'still', 'abl', 'afford', 'annual', 'interest', 'bill', '400', 'million', 'pound', '.', 'if', 'revenu', ',', 'cost', 'depreci', ',', 'less', '400', 'million', 'pound', ',', 'compani', 'issu', '``', 'stabilis', 'note', \"''\", 'maximum', '1.85', 'billion', 'pound', 'bank', '.', 'eurotunnel', 'would', 'pay', 'interest', 'note', '(', 'would', 'constitut', 'debt', 'issu', ')', 'ten', 'year', '.', 'analyst', 'said', 'deal', ',', 'eurotunnel', \"'s\", 'abil', 'financ', 'debt', 'would', 'becom', 'sustain', ',', 'least', 'year', '.', '``', 'if', 'look', 'current', 'cash', 'flow', '150', '200', 'million', 'pound', 'year', ',', 'ca', \"n't\", 'find', '(', 'meet', 'bill', ')', 'roll', 'forward', 'stabilis', 'note', ',', 'keep', 'go', 'seven', ',', 'eight', ',', 'nine', 'year', ',', \"''\", 'said', 'analyst', 'one', 'major', 'invest', 'bank', '.', '``', 'so', 'time', ',', \"''\", 'ad', '.', 'the', 'compani', 'said', 'statement', 'still', 'consider', 'work', 'done', 'finalis', 'agre', 'detail', 'plan', 'submit', 'sharehold', 'bank', 'group', 'approv', ',', 'probabl', 'earli', 'spring', '1997', '.', 'eurotunnel', 'said', 'debt-for-equ', 'swap', 'would', '130', 'penc', ',', '10.40', 'franc', ',', 'per', 'share', '--', 'consider', 'level', '160', 'penc', 'wide', 'report', 'run', 'deal', 'the', 'compani', 'said', '3.7', 'billion', 'pound', 'debt', 'would', 'convert', 'new', 'financi', 'instrument', 'exist', 'sharehold', 'would', 'abl', 'particip', 'issu', '.', 'if', 'choos', 'take', 'free', 'warrant', 'entitl', 'subscrib', ',', 'eurotunnel', 'said', 'sharehold', \"'\", 'interest', 'may', 'reduc', '39', 'percent', 'compani', 'end', 'decemb', '2003', '.', 'eurotunnel', \"'s\", 'share', ',', 'suspend', 'last', 'week', '113.5', 'penc', 'ahead', 'monday', \"'s\", 'announc', ',', 'resum', 'trade', 'tuesday', '.', 'sharehold', '225', 'creditor', 'bank', 'agre', 'deal', '.', '``', 'i', \"'m\", 'hope', 'i', \"'m\", 'take', '(', 'approv', ')', 'grant', ',', \"''\", 'morton', 'admit', ',', '``', 'sharehold', 'pretti', 'angri', 'franc', '.', \"''\", 'ask', 'would', 'happen', 'bank', 'reject', 'deal', ',', 'morton', 'said', ',', '``', 'nobodi', 'want', 'collaps', ',', 'nobodi', 'want', 'doomsday', 'scenario', '.', \"''\", '(', '$', '1=.6393', 'pound', ')']\n",
      "\n",
      "Text 2 Tokens\n",
      "----------------\n",
      "['anglo-french', 'channel', 'tunnel', 'oper', 'eurotunnel', 'monday', 'announc', 'deal', 'give', 'creditor', 'bank', '45.5', 'percent', 'compani', 'return', 'wipe', 'one', 'billion', 'pound', '(', '$', '1.56', 'billion', ')', 'debt', '.', 'the', 'long-await', 'restructur', 'bring', 'end', 'month', 'wrangl', 'eurotunnel', '225', 'bank', 'owe', 'nearli', 'nine', 'billion', 'pound', '(', '$', '14.1', 'billion', ')', '.', 'the', 'deal', ',', 'announc', 'simultan', 'pari', 'london', ',', 'bring', 'compani', 'back', 'brink', 'insolv', 'leav', 'sharehold', 'own', '54.5', 'percent', 'compani', '.', '``', 'the', 'restructur', 'plan', 'provid', 'eurotunnel', 'medium-term', 'financi', 'stabil', 'allow', 'consolid', 'substanti', 'commerci', 'achiev', 'date', 'develop', 'oper', ',', \"''\", 'eurotunnel', 'co-', 'chairman', 'alastair', 'morton', 'said', '.', 'the', 'firm', 'make', 'profit', 'interest', ',', 'ad', '.', 'although', 'sharehold', 'see', 'interest', 'dilut', ',', 'offer', 'prospect', 'brighter', 'futur', 'month', 'uncertainti', 'eurotunnel', 'wrestl', 'reduc', 'crippl', 'interest', 'payment', 'negoti', 'tunnel', \"'s\", 'construct', '.', 'eurotunnel', ',', 'taken', 'around', 'half', 'cross-channel', 'market', 'european', 'ferri', 'compani', ',', 'said', 'strong', 'oper', 'perform', 'could', 'allow', 'pay', 'first', 'dividend', 'within', 'next', '10', 'year', '.', 'french', 'co-chairman', 'patrick', 'ponsol', 'said', 'sharehold', 'would', 'patient', 'could', 'reap', 'benefit', 'compani', \"'s\", 'success', '.', 'he', 'call', 'debt', 'restructur', 'plan', '``', 'accept', 'compromis', \"''\", 'holder', 'eurotunnel', 'share', '.', 'the', 'compani', 'said', 'still', 'consider', 'work', 'done', 'finalis', 'agre', 'detail', 'plan', 'submit', 'sharehold', 'full', '225', 'bank', 'syndic', 'approv', ',', 'probabl', 'earli', '1997', '.', 'monday', \"'s\", 'announc', 'follow', 'two', 'week', 'highli', 'secret', 'negoti', 'eurotunnel', 'six', 'lead', 'bank', '.', 'thi', 'extend', '24', '``', 'instruct', 'bank', \"''\", 'meet', 'late', 'last', 'week', 'london', '.', 'eurotunnel', 'said', 'debt-for-equ', 'swap', 'would', '130', 'penc', ',', '10.40', 'franc', ',', 'per', 'share', '.', 'that', 'consider', 'level', 'around', '160', 'penc', 'wide', 'report', 'announc', 'deal', ',', 'reduc', 'outstand', 'debt', '8.7', 'billion', 'pound', '(', '$', '13.6', 'billion', ')', '1.0', 'billion', '(', '$', '1.56', 'billion', ')', '.', 'the', 'compani', 'said', '3.7', 'billion', 'pound', '(', '$', '5.8', 'billion', ')', 'debt', 'would', 'convert', 'new', 'financi', 'instrument', 'exist', 'sharehold', 'would', 'abl', 'particip', 'issu', '.', 'if', 'choos', 'take', 'free', 'warrant', 'entitl', 'subscrib', ',', 'eurotunnel', 'said', 'sharehold', \"'\", 'interest', 'may', 'reduc', '39', 'percent', 'compani', 'end', 'decemb', '2003', '.', 'eurotunnel', \"'s\", 'share', ',', 'suspend', 'last', 'week', '113.5', 'penc', 'ahead', 'monday', \"'s\", 'announc', ',', 'resum', 'trade', 'tuesday', ',', 'compani', 'said', '.']\n",
      "\n",
      "Text 3 Tokens\n",
      "----------------\n",
      "['anglo-french', 'channel', 'tunnel', 'oper', 'eurotunnel', 'monday', 'announc', 'deal', 'give', 'creditor', 'bank', '45.5', 'percent', 'compani', 'return', 'wipe', 'one', 'billion', 'pound', '(', '$', '1.56', 'billion', ')', 'debt', 'mountain', '.', 'the', 'long-await', 'restructur', 'bring', 'end', 'month', 'wrangl', 'eurotunnel', '225', 'bank', 'owe', 'nearli', 'nine', 'billion', 'pound', '.', 'the', 'deal', ',', 'announc', 'simultan', 'pari', 'london', ',', 'bring', 'compani', 'back', 'brink', 'insolv', 'leav', 'sharehold', 'own', '54.5', 'percent', 'compani', '.', '``', 'the', 'restructur', 'plan', 'provid', 'eurotunnel', 'medium', 'term', 'financi', 'stabil', 'allow', 'consolid', 'substanti', 'commerci', 'achiev', 'date', 'develop', 'oper', ',', \"''\", 'eurotunnel', 'co-', 'chairman', 'alastair', 'morton', 'said', '.', 'the', 'firm', 'make', 'profit', 'interest', ',', 'ad', '.', 'although', 'sharehold', 'see', 'interest', 'dilut', ',', 'offer', 'prospect', 'brighter', 'futur', 'month', 'uncertainti', 'eurotunnel', 'wrestl', 'reduc', 'crippl', 'interest', 'payment', 'negoti', 'tunnel', \"'s\", 'construct', '.', 'eurotunnel', ',', 'taken', 'around', 'half', 'cross-channel', 'market', 'european', 'ferri', 'compani', ',', 'said', 'strong', 'oper', 'perform', 'could', 'allow', 'pay', 'first', 'dividend', 'within', 'next', '10', 'year', '.', 'french', 'co-chairman', 'patrick', 'ponsol', 'said', 'sharehold', 'would', 'patient', 'could', 'reap', 'benefit', 'compani', \"'s\", 'success', '.', 'he', 'call', 'debt', 'restructur', 'plan', '``', 'accept', 'compromis', \"''\", 'holder', 'eurotunnel', 'share', '.', 'the', 'compani', 'said', 'statement', 'still', 'consider', 'work', 'done', 'finalis', 'agre', 'detail', 'plan', 'submit', 'sharehold', 'full', '225', 'bank', 'syndic', 'approv', ',', 'probabl', 'earli', '1997', '.', 'monday', \"'s\", 'announc', 'follow', 'two', 'week', 'highli', 'secret', 'negoti', 'eurotunnel', 'six', 'lead', 'bank', '.', 'thi', 'extend', '24', '``', 'instruct', 'bank', \"''\", 'meet', 'late', 'last', 'week', 'london', '.', 'eurotunnel', 'said', 'debt-for-equ', 'swap', 'would', '130', 'penc', ',', '10.40', 'franc', ',', 'per', 'share', '.', 'that', 'consider', 'level', 'around', '160', 'penc', 'wide', 'report', 'run', 'deal', ',', 'reduc', 'outstand', 'debt', '8.7', 'billion', 'pound', '1.0', 'billion', '.', 'the', 'compani', 'said', '3.7', 'billion', 'pound', 'debt', 'would', 'convert', 'new', 'financi', 'instrument', 'exist', 'sharehold', 'would', 'abl', 'particip', 'issu', '.', 'if', 'choos', 'take', 'free', 'warrant', 'entitl', 'subscrib', ',', 'eurotunnel', 'said', 'sharehold', \"'\", 'interest', 'may', 'reduc', '39', 'percent', 'compani', 'end', 'decemb', '2003', '.', 'eurotunnel', \"'s\", 'share', ',', 'suspend', 'last', 'week', '113.5', 'penc', 'ahead', 'monday', \"'s\", 'announc', ',', 'resum', 'trade', 'tuesday', ',', 'compani', 'said', '.', '(', '$', '1=.6393', 'pound', ')']\n",
      "\n"
     ]
    }
   ],
   "source": [
    "print(\"Text 1 Tokens\")\n",
    "print(\"----------------\")\n",
    "print(text_1_processed)\n",
    "print()\n",
    "\n",
    "print(\"Text 2 Tokens\")\n",
    "print(\"----------------\")\n",
    "print(text_2_processed)\n",
    "print()\n",
    "\n",
    "print(\"Text 3 Tokens\")\n",
    "print(\"----------------\")\n",
    "print(text_3_processed)\n",
    "print()"
   ]
  },
  {
   "cell_type": "markdown",
   "metadata": {
    "id": "BZw5_SXrkc_e"
   },
   "source": [
    "The code below prints each document after processing."
   ]
  },
  {
   "cell_type": "code",
   "execution_count": null,
   "metadata": {
    "colab": {
     "base_uri": "https://localhost:8080/"
    },
    "id": "V-JG5_Tjz7Dd",
    "outputId": "b2a258ac-61a4-431e-844e-7fff743058ce"
   },
   "outputs": [
    {
     "name": "stdout",
     "output_type": "stream",
     "text": [
      "Text 1 Processed\n",
      "----------------\n",
      "channel tunnel oper eurotunnel monday announc detail deal give bank \n",
      "creditor 45.5 percent compani return wipe 1.0 billion pound ( \n",
      "$ 1.6 billion ) massiv debt . the long-await highli \n",
      "complex restructur nearli nearli nine billion pound debt unpaid interest \n",
      "throw compani lifelin could secur still like difficult futur . \n",
      "the deal , announc simultan pari london , bring compani \n",
      "back brink bankruptci leav current sharehold , alreadi seen invest \n",
      "dwindl , own 54.5 percent compani . `` we fix \n",
      "cap interest payment arrang pay avail cash , '' eurotunnel \n",
      "co-chairman alastair morton told report news confer . `` avoid \n",
      "name game . '' morton said plan provid anglo-french compani \n",
      "medium term financi stabil consolid commerci posit develop oper , \n",
      "ad firm make profit interest . although sharehold see hold \n",
      "dilut , offer prospect brighter futur urg patient month uncertainti \n",
      "eurotunnel wrestl reduc crippl interest payment negoti tunnel 's construct \n",
      ". eurotunnel , taken around half market busiest cross-channel rout \n",
      "european ferri compani , said strong oper perform could allow \n",
      "pay first dividend within next 10 year . french co-chairman \n",
      "patrick ponsol told report pari news confer dividend could come \n",
      "earli 2004 compani perform `` well '' . eurotunnel bank \n",
      "come ingeni formula help compani get earli year deal , \n",
      "despit swap debt equiti bond , still abl afford annual \n",
      "interest bill 400 million pound . if revenu , cost \n",
      "depreci , less 400 million pound , compani issu `` \n",
      "stabilis note '' maximum 1.85 billion pound bank . eurotunnel \n",
      "would pay interest note ( would constitut debt issu ) \n",
      "ten year . analyst said deal , eurotunnel 's abil \n",
      "financ debt would becom sustain , least year . `` \n",
      "if look current cash flow 150 200 million pound year \n",
      ", ca n't find ( meet bill ) roll forward \n",
      "stabilis note , keep go seven , eight , nine \n",
      "year , '' said analyst one major invest bank . \n",
      "`` so time , '' ad . the compani said \n",
      "statement still consider work done finalis agre detail plan submit \n",
      "sharehold bank group approv , probabl earli spring 1997 . \n",
      "eurotunnel said debt-for-equ swap would 130 penc , 10.40 franc \n",
      ", per share -- consider level 160 penc wide report \n",
      "run deal the compani said 3.7 billion pound debt would \n",
      "convert new financi instrument exist sharehold would abl particip issu \n",
      ". if choos take free warrant entitl subscrib , eurotunnel \n",
      "said sharehold ' interest may reduc 39 percent compani end \n",
      "decemb 2003 . eurotunnel 's share , suspend last week \n",
      "113.5 penc ahead monday 's announc , resum trade tuesday \n",
      ". sharehold 225 creditor bank agre deal . `` i \n",
      "'m hope i 'm take ( approv ) grant , \n",
      "'' morton admit , `` sharehold pretti angri franc . \n",
      "'' ask would happen bank reject deal , morton said \n",
      ", `` nobodi want collaps , nobodi want doomsday scenario \n",
      ". '' ( $ 1=.6393 pound ) \n",
      "\n",
      "Text 2 Processed\n",
      "----------------\n",
      "anglo-french channel tunnel oper eurotunnel monday announc deal give creditor \n",
      "bank 45.5 percent compani return wipe one billion pound ( \n",
      "$ 1.56 billion ) debt . the long-await restructur bring \n",
      "end month wrangl eurotunnel 225 bank owe nearli nine billion \n",
      "pound ( $ 14.1 billion ) . the deal , \n",
      "announc simultan pari london , bring compani back brink insolv \n",
      "leav sharehold own 54.5 percent compani . `` the restructur \n",
      "plan provid eurotunnel medium-term financi stabil allow consolid substanti commerci \n",
      "achiev date develop oper , '' eurotunnel co- chairman alastair \n",
      "morton said . the firm make profit interest , ad \n",
      ". although sharehold see interest dilut , offer prospect brighter \n",
      "futur month uncertainti eurotunnel wrestl reduc crippl interest payment negoti \n",
      "tunnel 's construct . eurotunnel , taken around half cross-channel \n",
      "market european ferri compani , said strong oper perform could \n",
      "allow pay first dividend within next 10 year . french \n",
      "co-chairman patrick ponsol said sharehold would patient could reap benefit \n",
      "compani 's success . he call debt restructur plan `` \n",
      "accept compromis '' holder eurotunnel share . the compani said \n",
      "still consider work done finalis agre detail plan submit sharehold \n",
      "full 225 bank syndic approv , probabl earli 1997 . \n",
      "monday 's announc follow two week highli secret negoti eurotunnel \n",
      "six lead bank . thi extend 24 `` instruct bank \n",
      "'' meet late last week london . eurotunnel said debt-for-equ \n",
      "swap would 130 penc , 10.40 franc , per share \n",
      ". that consider level around 160 penc wide report announc \n",
      "deal , reduc outstand debt 8.7 billion pound ( $ \n",
      "13.6 billion ) 1.0 billion ( $ 1.56 billion ) \n",
      ". the compani said 3.7 billion pound ( $ 5.8 \n",
      "billion ) debt would convert new financi instrument exist sharehold \n",
      "would abl particip issu . if choos take free warrant \n",
      "entitl subscrib , eurotunnel said sharehold ' interest may reduc \n",
      "39 percent compani end decemb 2003 . eurotunnel 's share \n",
      ", suspend last week 113.5 penc ahead monday 's announc \n",
      ", resum trade tuesday , compani said . \n",
      "\n",
      "Text 3 Processed\n",
      "----------------\n",
      "anglo-french channel tunnel oper eurotunnel monday announc deal give creditor \n",
      "bank 45.5 percent compani return wipe one billion pound ( \n",
      "$ 1.56 billion ) debt mountain . the long-await restructur \n",
      "bring end month wrangl eurotunnel 225 bank owe nearli nine \n",
      "billion pound . the deal , announc simultan pari london \n",
      ", bring compani back brink insolv leav sharehold own 54.5 \n",
      "percent compani . `` the restructur plan provid eurotunnel medium \n",
      "term financi stabil allow consolid substanti commerci achiev date develop \n",
      "oper , '' eurotunnel co- chairman alastair morton said . \n",
      "the firm make profit interest , ad . although sharehold \n",
      "see interest dilut , offer prospect brighter futur month uncertainti \n",
      "eurotunnel wrestl reduc crippl interest payment negoti tunnel 's construct \n",
      ". eurotunnel , taken around half cross-channel market european ferri \n",
      "compani , said strong oper perform could allow pay first \n",
      "dividend within next 10 year . french co-chairman patrick ponsol \n",
      "said sharehold would patient could reap benefit compani 's success \n",
      ". he call debt restructur plan `` accept compromis '' \n",
      "holder eurotunnel share . the compani said statement still consider \n",
      "work done finalis agre detail plan submit sharehold full 225 \n",
      "bank syndic approv , probabl earli 1997 . monday 's \n",
      "announc follow two week highli secret negoti eurotunnel six lead \n",
      "bank . thi extend 24 `` instruct bank '' meet \n",
      "late last week london . eurotunnel said debt-for-equ swap would \n",
      "130 penc , 10.40 franc , per share . that \n",
      "consider level around 160 penc wide report run deal , \n",
      "reduc outstand debt 8.7 billion pound 1.0 billion . the \n",
      "compani said 3.7 billion pound debt would convert new financi \n",
      "instrument exist sharehold would abl particip issu . if choos \n",
      "take free warrant entitl subscrib , eurotunnel said sharehold ' \n",
      "interest may reduc 39 percent compani end decemb 2003 . \n",
      "eurotunnel 's share , suspend last week 113.5 penc ahead \n",
      "monday 's announc , resum trade tuesday , compani said \n",
      ". ( $ 1=.6393 pound ) "
     ]
    }
   ],
   "source": [
    "print(\"Text 1 Processed\")\n",
    "print(\"----------------\")\n",
    "for index, item in enumerate(text_1_processed, 1):\n",
    "    print(item, end=\" \")\n",
    "\n",
    "    if index % 10 == 0:\n",
    "        print()\n",
    "print()\n",
    "print()\n",
    "\n",
    "print(\"Text 2 Processed\")\n",
    "print(\"----------------\")\n",
    "for index, item in enumerate(text_2_processed, 1):\n",
    "    print(item, end=\" \")\n",
    "\n",
    "    if index % 10 == 0:\n",
    "        print()\n",
    "print()\n",
    "print()\n",
    "\n",
    "print(\"Text 3 Processed\")\n",
    "print(\"----------------\")\n",
    "for index, item in enumerate(text_3_processed, 1):\n",
    "    print(item, end=\" \")\n",
    "\n",
    "    if index % 10 == 0:\n",
    "        print()"
   ]
  },
  {
   "cell_type": "markdown",
   "metadata": {
    "id": "EjXee6Ys7Cjw"
   },
   "source": [
    "## **Part 3**\n",
    "\n",
    "### Calculate tf-idf for each word in each document and generate document-word matrix"
   ]
  },
  {
   "cell_type": "markdown",
   "metadata": {
    "id": "9ofzRuBmdaMc"
   },
   "source": [
    "![1*V9ac4hLVyms79jl65Ym_Bw.png](data:image/png;base64,iVBORw0KGgoAAAANSUhEUgAAAbAAAACQCAYAAABplT6oAAAAAXNSR0IArs4c6QAAAIRlWElmTU0AKgAAAAgABQESAAMAAAABAAEAAAEaAAUAAAABAAAASgEbAAUAAAABAAAAUgEoAAMAAAABAAIAAIdpAAQAAAABAAAAWgAAAAAAAABIAAAAAQAAAEgAAAABAAOgAQADAAAAAQABAACgAgAEAAAAAQAAAbCgAwAEAAAAAQAAAJAAAAAADfTjkAAAAAlwSFlzAAALEwAACxMBAJqcGAAAAVlpVFh0WE1MOmNvbS5hZG9iZS54bXAAAAAAADx4OnhtcG1ldGEgeG1sbnM6eD0iYWRvYmU6bnM6bWV0YS8iIHg6eG1wdGs9IlhNUCBDb3JlIDYuMC4wIj4KICAgPHJkZjpSREYgeG1sbnM6cmRmPSJodHRwOi8vd3d3LnczLm9yZy8xOTk5LzAyLzIyLXJkZi1zeW50YXgtbnMjIj4KICAgICAgPHJkZjpEZXNjcmlwdGlvbiByZGY6YWJvdXQ9IiIKICAgICAgICAgICAgeG1sbnM6dGlmZj0iaHR0cDovL25zLmFkb2JlLmNvbS90aWZmLzEuMC8iPgogICAgICAgICA8dGlmZjpPcmllbnRhdGlvbj4xPC90aWZmOk9yaWVudGF0aW9uPgogICAgICA8L3JkZjpEZXNjcmlwdGlvbj4KICAgPC9yZGY6UkRGPgo8L3g6eG1wbWV0YT4KGV7hBwAAQABJREFUeAHsnQd8VUX2x+9raSSh946IAiIliAIqIFbsBSyr6MqKXddd13X3r0twdXWLuou9d0FQ7KK0hI4gWAEBQZAunQBp7737//7m3RteQgJBCCR4533mzdyZM+3cmXPmzJyZa1me8TDgYcDDgIcBXzwKMjMz/fHPe/HHp4337yWZF+1hwMOAhwEPAx4G9g8DRUznxBNPrHnWWWclOtmVh4mZtErTu3fv1P2rhpd6XzFQnhe0r3l68B4GPAx4GKgqGBADslXZXr16vRIMBlfn5uYugxmdSlAUN6i40kz//v0DhNt9+vTJIM1i/KthgBcKdk/pFO+ZA4MBj4EdGDx6uXgY8DBQBTHAUqGRoE4//fRqPp/vXL/fnwQTa0BTnhYTys7ODuMvktDim7h06VJDP23bPi4UCjVNSEhIa9KkSRvB5OTklJomPr3n338MeAxs/3Ho5eBhwMNAFcXAvHnzDKMpKCioCQMLwIysSCSSC0M6gibdqWZlZGSUKYU5za5DGktp27Rp85PC0tLSjFTnxHtOBWHAY2AVhFgvWw8DHgaqDgZgQPVgQGliQjCzUDgswcv6K1JYgzlz5hSWptQRx6QaCximZ+3cuXON/KST45kKxoDHwCoYwV72HgY8DFReDKxfv95IYCwb1mX50IeN1q9fPxiNRgthSGJo96n2LCXuRivr1q1rpCwkt0ZifBh4X8EGeZDsPAlMiKhgs9tLqeDyvOw9DHgY8DBQ6TCABFafPSxrw4YN9mmnnfY9e1m+LVu2WDC266Skob0w7YnFVdw3atSoqPMs6U0SWE737t03Kax9+/YeA4tDVkV5PQZWUZj18vUw4GGgymAAyauR9rESExMDSFb/O+WUUxbAzCwxNZjTP9UQGJjLsPQoyc2GYSXj1lRAIBDIueyyyzbKP2TIEI+BCREVbDwGVsEI9rL3MOBhoEpgoLH2vRo0aGBdcsklczjX9e/zzz/fWr58eR5MrS9S2MXsg0VR6AipNajQm6VHlg/TeKyDa2E3YPMVj+sxMCGigo3HwCoYwV72HgY8DFR+DMBwGmJV0fBvf/vbSKNGjV474YQT5hGWpOVBpLN/aAlRCh3AGEABw9ykvWiUP5KTk40CB8EeXRVyDoLxEH0QkOwV4WHAw0DlxAB7WxGnZnVR3JDktOPCCy/crDAY1v9ddNFF1sKFC/NSU1PbEH+7wuPV6mFuDbEJLEFaKSkp6xSP0QFnzxwEDHgM7CAg2SvCw4CHgUqJAbOPJckKJlRPEhiMKAfljZ9VW5YT3+dmjU9atmyZtGPHDu1x3cOB53qOFGaYFPB1BYuyhw4vr5Z/8ODBcjxzEDDgMbCDgGSvCA8DHgYqLwbY+zL7WKohTOrnq666KheGZmgjDOsv7IdZ3333XZglwhr5+flDBLdy5UrDwCSBSfrCterUqbNWcSw/evtfQsRBMB4DOwhI9orwMOBhoPJhwL1GCgYkJYwULSGyVChFjCjWRpIK4X5z8sknP963b9/g5s2bC2FwNyGxdZoxY0auWiQGJuYlJgYDW6kwliXleOYgYMBjYAcByV4RHgY8DFQ+DMBoXPpXFyaUops0CgsL3X0s/zPPPGP2x1DmGAoD27xo0aJQUlKSGvKg2xoYXGMxMBib9TNG4e4BZxfGcysOA+4LrLgSvJw9DHgY8DBQsRjwIU1pH6tIO7A8xbkX7iI91RMDkuHcl9nHQsqCN/miMDFJYRu4qX7o5Zdfbv30009Sqz8TqewiwRPXxHFz2DP7RYeYqbt/5MiRnuKHELmPxmNg+4gwD9zDgIeByoMBl2nBBMIwEx73jYmpJaRp5LgW10itkh/pzDBDlhHNpYhHHXXUYzCteeyXGbV6yroPJiemmY61kMy2c27MXCOl9OU1qi91jw4YMCDiMbHyYm0XnMfAduHC83kY8DBQhTAg4i+mRZXt55577rQnn3xSZ7IILh8Tcy/jRQJrrP0v3bqBtmExTUInvyBu9NRTT/0Lh5wtlhILUJlvz9mwGyjLL+kN/5YOHTpsFfpgSOVS4gDOr/wff/zxNi+88EJ3j4nte+fzGNi+48xL4WHAw8Chx4Bv6NChRkp6/vnnH65evfpYGNDNqhbh+7oc1xhGYjQJcc0+VrwmIWGSwgK1atX6ELX6T1u0aJHArfNSnb+TuOYO81uPP/6qqXJjiL23p2GC02HC/cTEsrKy4u9cLHc+v0ZAj4H9Gt961W+zT8s3ss5Xcfdp76PqN7/8LdAs/3DEEUQ+QNuiMK8/IwX9oUaNGhbq7kYCYr+qPAjysUzoMhwpcYgh5Xbq1MkwsJK3yVOe6WNnnHHG3VgdbrZhPGJeNZQW7UWjQk/BoqnlksDcb5GxNLkRaVAKJB9KEuPaqrDHxMrzCj0YDwNVDANiWlWsyoeyuoclY4dxmT6AxHLSs88+a7/++uv2Dz/8MMZFNAylPO0uguHi3ln0K/uCCy7YwD5ULeVTWh5u35s6deqTLCXqIt98mE0Bt9fbV1999f+c8svdPynDCBC4jWbNmrUKZmzTnh+feOKJVOWlyYeTp+eUgQEPQWUgxguufBjQgGbWbDbVmbV2YNO8B9f+tK18Na0UNRKBFpGtBYE+Av9hMdbFWOgHYbmYx7BW06ZNNx1xxBGDhHXCA4SVRwJyGVgye2C1pR5PWklf25WP8i1pkIqMxNazZ8+hMK4t7IUlIHlFtQeGcodR/oDJlUxW5jNlRL/44gtpOa4+5phjbkeBROr4LdBydNX0D4t3ViYCDkCEh6ADgEQvi4rHgJgXNgqBOAc7n+Wbr7kNYfK6devms3l+n2rgLJVVfGUqfwka17auPYIYfg6B/gGc/VXVruo4QkIxEg7Syk0Q/o41a9a0uOrpH2ICLMkl4Lp3G+7xLYEHw6FuvfXW2qjG1//000+1DJjDHlQBCQ3zL5kBebtq9evA5wPAWh9++KFPx7+OPvro9YJ3VfNLpi3ruWvXrrocOIBSyNuNGzceoyupYIY3PPXUU8eIUXuaiWVhLhbuMbA948eLrXgMiFjE291KFNEV82Jv4zhmqB8C0HbNmjU+GFeA2bfFhavtlYgPDO6W9tcY4BJnNOPq0P6WEF5JF22qOi4kdV1//fWF9AWpr9+m9rD39SN94En527VrZ6Rz+fdmYAxGSvvHP/6R/8orr/z8+eefW/fcc88spSOuTLroqtVT1v9uvvnmzydOnJjAkt+OG2644RulRaJy99X0WC7j7q+1bt36Qe2FMTmDjwV/r8Tz5883jLZcGf0Kgcq9XvsrxI3X5IrHQGkz3d3C3M++I0kM0nINV/qE//Wvf+VyQ0I2as+tmb2+g+aZJULA0k7F17qSl6CvAYuZo2AgaSQPYl9NbiWv9l6rx/KxtAvDHBg+j77Qhveuc1vPw6BznaU4STPlMqQRo/HBMNaDnx74a2MXKTETgDKZEOkAt6X+XojbF1wfSZKfeZb6PU75JECV4xr6rBivPz09fQptzEaK652Xl3fhSy+9dA+fdlkLwzarDy685+7CQJkzjV0gns/DwIHHgAYludqoJbdiOeYr7AdYTag0My4263Sv5mFW2lKfeUdTzCLdBdw9d17z5s3bEf+maugQAnk9swsDIraGsu4Kqpo+JjJGamISM0ATGSSVnUceeeRbag2fOCnX0mGJlpu+Bn7WYvXtLzElnD3voREfdeB24P8Ka5gXeZv6lSijXI/c+GFU/2vXrv2azqNha6GVeK4SN2zY0MSVK6NfGZDHwMp+4cWIaNlgxYltGXDlzauM5IdfMHsHZlBChE7glu+OtPA051ZwNbYYvpAmzIyYAV2NWapuAl/B0tEkByvKpxi8E+45+4cB4TTe/tLcDkQeliY8OiOlw8pIlidqr6hatWozUL5YQsXEpMuUmvZScXiR7ccGHKZULiZEeUqnP6Uzk7G9lLPHaPbyTP1RRhkLc95K/oI/R39unPyeKY4Bj4EVx4f75HZId/C54fGuG2c70kR8XJHfiTMzvaJAz2O1atXKjFCIUQMYkzCyGaJkiIezh2PiFQEOi/wsHVksr1h33HFHguLYr5BTpYwI3y+p8C9Ntw9lmfN12nMkjd5FkZV07ITvNTv1eUeaVjuL8sCv59LsXukQe04GZxD3TvSBxuoHSCnjyU9Lx3tNL7iyjJgfNiKmVBZMaeGCd9L9UuZZlK2YMw9+lkVXwpTnqH2YTsOGDUtXnENHiuA9TwwD+/XiD2MkqkMKN+7gM4Mnrr16duNEYAVfEsaAO3Hyu4OjVDgD/Cv6Q6qStpc+Q2GIEV4tH5p9GuI0mIUv4crcFYcrAw03N3/bjz76qPmchTPwXdgYVCX+FxMS4dtXgiR4pVP6imieWx+2YMLCP0tyIQ7s1uL6pOoqzw3fGxMT41KfFzzJ7PPOOy9N+RCus03umCnp7pUBsO/p0qrjtMSGtC4J7HPyPGyMu4zIRG6GlkiZ3DWBmR3lNNBt/2HT3gPREE+JIw6LGsQafMcff/yDzISuglgsQJPriilTpkhFVh0o6sIwsFsxiN4grAH2fgbsCxrcDvG1XDg05/4G4bmOfKahOXc1By7zgRcR0iD+tRmX+Noc/vwfg7N3bm5ug4KCAu3R1GApceo555wTYeD6Cbt2/Pjx3wpBfMriZmBvAraRpDVgG/fr128WzM8Grz6WFAd+++2338fjv5Iilqr7bKl7s/lfIBVphwHvsbouXJyiwgHtP8Ib/dXsIZ100kkXo9hwJe+gLbhOpb7Rs88+exP+WSjMPEv//oLKFr3H+IqLeYlxkUddmMytvM9T9c7IK8RzAfls5AomvV/hwSI+DKGuSdgjaPM9t6f3x9hxx8vRIu689030CaN04e6NxdelKvrbtGlj2giuvqJ9Fkcg/OC9DW2ZXc7bRapis/erzh5Xj0Mfg9gMTA5/nkRwYzrSqQyWMwTC4DS4cvduYF4X0sFOYA+nBdG3C8ZhXsrDZYTpENk76IxN2rZte+rixYvNspdbjtL8mozTbvuTTz5JhJEPAJfHco6rnpYOGaghwjM++uijbrhdN2zYcLSLGxQ3Lvn444/bbd++PV2wfBU3EZjjBDtmzJjjGPhdBbt06dJK25/FhKiiJMe2EyZMWISGmbn3DpyYPuG2taRLugQxOVS9u02fPv2H//73vycrHye/kuD7/Ez5fvVbSUgQyY85C/U2S3IXcC7qqBUrVjSG2TYF9x15B9cRN5sD5PeofKzLxEyZYj4O8+rJmPieyd+9vJ/uM2fObL5q1apGY8eObUE+GYynbsQfx7g4jnfXHZijOUd1mjKhHiav0v6GDBliGCz5Nhfzw67t2LGjufaJsvcqwZWWZ2ULcxkxk7cl0Bebvq4qNqts9axM9fEksOJvwwzKY489dix3nfXUhZ0MuF6AvO6CsXcTnTNnjtayTtYyBsxJmktHQABaMICXAad9BN0YEYXBdWKg1dBsijMe2fhziC+a7bp5/lpciJCWziykp3yI8XKk3Abvv/++NuYDEEYLwi7NMn2aQgRq83HHHWdQQ/wSwntziDUKYQ0KlvM75iu44NjiItfV77zzjvWf//zHrqxq9GhKmr515ZVXNli+fHnzSZMmfQhTOoMriMY7TMosqcb3BTd8xIgRXWACY2Ew1blkttnvf/97qXoXYyDx6fbBH788+wHvow99u/DBBx8MdenSJZ8J3BbyCm7atKk2dbB4ZxEO7P4dCWsHqxKP0s+NxOVKTryXphDdMUxG0hg39ttvv+1r0qTJZvLIZ4xUY9KS9sgjj0jyKqxXr5712WefRdCwS2KcreZIxJ6OQdAdYvtTuLVgfhZEXqrrOhO2mwKHmHvckuM+oOPggupMmdsulcyZLyOB0af1XbEttLMmbkPF0V/keKYEBjwGFocQEVfZZs2aZUFwhiIxabD1AMRcYeQOVK6SSaNzdWUpRIRWM6UUmNkJwC0T83KzZBD3FvPSFTEQnokKZ53bz2FMM5t04SqTC6HxMRMuasO+1k2z4fhBGZ9e4cpfLlJuf+JSXnvttUc5iHoWihmbTznllPMJ24YVcZ6PNaZbt2534XkCCexFCF8nCN4qiLk+KCiir9n3d9hKrUbvnvWhX2XRJ+6h79wPE/hMTAwJa7w+nKhDumqHTDzzWr16dRYEPh1Fhv/CZF4nWjjUHtN+GfqqkZpwb2Y/qc/s2bMLmBgkDBo06H4yfgWrCZfeRRsY1/0PP/zwSZMnT7Y4h/UQ9XlXEzbGi8aGYDTZu5uJRpokCc7prT7zzDO1MjEdq3cUJM1ZwDx69913pzLpkDLOoxxGf4E4MTmLepQ6LugzarCF1JoE40rVM8Zc3CtPvFF9nGXZUvOKhz3Uft63JsJ6l6ZBbn22bdu2lT6yXQyMeCOh8+6Lwbiwv3Y3+GtHQHz7kRC0x6U9l7ksbayAKTUlvg3Epy3LKvMgoMJXhEHYmU7XSAMJmIBEfZ5PIW6ErpJhFmuIC3AnSYpDDbaADphNvMWsK6KOWxlN3GDa38EvglbqgNNgdcpZIRyw/LcB1WEdTi4kbgZBxQizA6sZ6SYYWQ7nZCwIeh6w5tYE5VFVjNNwEfoHIFBS3b6Pi2ENE4uXxOKZF5KXYV6dO3ceBvO6Q20lnSHo+9lu3cYuXPuoz02UY0H4E7jR/VZw+3iJvHXT+sks207lxoqe+BOY2P0Wd4iW1CW1CZ5x0BPmZfXo0cPHHt/l5DNF4XHm+blz5+Zzhu/VZcuWWdxl2Zo4s4/lvOdS+4ybnmXlAPtz5lwb+DNMz9VOFIyYF1bXPZ3N45nY7dhfPBkj7QE34MR0A2XMJOZhnn8u2XaWbrV6o4lgTGvpgNfi8MnQY2Bx75IOo5miLgPd8c9//nMGg7QpgzvInsuJhM9jH8AMBpa4TtKBWtbgtyMRRFnbT+dQrWD87mBmENejg3ZUJ0QC+x4CtEBF8bzHQSqYQ2Soms9m8Neh3k2Z/YWxZmZdnvqQxsbqip9lN910k4jLHpmYK3EgfYW0FAvx8zEzT3vooYc2M1kIuoeSVSeMWSZCSggIlsHtZykq+Q9/+ENuPGx56nkoYZy2CM9iGn+HCKs690kS40b102EgE8BLCu5OZ9nQMC8Obj8G85I0I4K225KZwvfVxElfHcmzLfWxkA6/4z4+MS8hXXt2Gg82zCaxZcuWeUhef6UfT/ryyy91hVNf4oace+65Efq80qaydFhDdxPCDL9nFWO66qq8lAfM0q93yvLxp+SxmbFVE0WeJuPGjXOlEMD2bLjb0eLWdgNEPwiVAq3yRPgz6IuDcKV8ValoHDjR+BdO1AdewP3Z+a5ZEV2gn9u0r+gZGM+UgYFK9XLLqONBDYaAmCU+lvzGwZQGMOsTce1NJZ5h+cJIBwyOEyHuYkxftWzZciGDcRBhrV1JTRWGyHYmrK7uNiOvSQwmdUjh2+QhmMpkaHfQWcIaTLsf2Lp1qySFcleRtlpqK5LUTSR6Ki6/UvMYPny4GaCks91yIGYimFoKLCYBOrgrmo2KBvDdJANTErbUwipRoNqi+uPS7MDfIfoiZkMlib388sv9rrnmmrEws+NgAuO0bCjmBUEz9/6R7oAwL6HDvXQW/LenHj4t6eEf76BKk7j4firNWTGp2YyBH+nvLWG+raVij8RjlvL0SRMuoI2q35B3KgxSt6znsfebyD5YBE1RdaYwElMC2oyJWrWgTPMOhRPihIc9Gvam89HE1J6z8FdDwO6+kfzURXX2scpxH65sVTDx+5CmvmhuJrAUG1I72YfcK16qQiMrqo6asXgmDgNa4tMjt0RPZrkqn84kZYHjOReTIulKKsIQnU7MQEWwZyCBjWYjWkuJIQiBlleMYYD10QxbS17MaicokAFm4irjH8zLJVjPwoQ6U8cOEKtjy2sZbB2QSjvT5hFqX1x+5W6uZu/lNRBCF7TKDXARbIyYtR86dR8KE0MkEYG/99kTu5VluI9YZqteUcxLiKPvmgkEfbaxCCX1sHSzv+Lo68VwqniMD2lZZ++WavKGqQbDM0wEf4CzXjsYM+tQ+LCQFpuQ5kYB6diIlirl6pn+8QcYcooYHW1crTCMmJspxDyV+HMZHK7U7rUsKGO+2yXFIPzx9XWf48NMgkr259Zvt3bzLoTXdPCrs27ah/Qu9S3j5XkSWAnEMEiMFIDa+yJup/6OwarliJZ0pE6ATqdzdYWBNUClWMxJ5zM+f/fddws5p6KzLr2AeVZZkk9PiL9gNrL0MVNhEN3dOqvCK4kxAx/Gs4H6yO6P0eCszG3dn7YdkLQiymIMuIaJ4S+AcT3IN6aGcb+flqf/zVK1lFcO2LJhaRVn4lWNfmsOBqMyr73GIubmwquu+MVkIqi8rxez0xIXkztDhLktInjbbbdF+DbbKJjgCY899liUPv8IY6MT0tqnjlZdfdp4MfY89s0K7rvvvoRLL710hDQqWQb2IUm7xZXlmj4FTtZRtmDqvfrqq9Wo2w4mhtr7iu9vpi87GZXsi6bOxMXDuGndOCV14+Pj3DAn62J9PD5tfHrXL9eti+sqrMhAH0wetKk+Nk0RSKraf9R9iCXzV/Cv3ngMrPQuYJb6WPPPRtLKECOiI50M6HQ6Vh8NIKSFXDSovuZuvo1/+tOfFhB+LLPL7sD40FKU6uuxWiah482F2a3j2dWOwltpDfQlpoUYvzRT3tpqAO5JC7G8+fxa4OgzNsQ7EeKdBzH+BNz/jb6SLEUIFDk+FR6ITwLO3FBSEXjR3ZLs8Wr5UH3crBm7y4vx5fFezTktKTLpmIMMaQ1RZRyYVQve/2O/+93vLiT+RJZEI8QPhOEN1CqGxoy0ejFRtBkTuKFjJGPjbZ7N3pgi9mRYGQnoGAV5/8gSpEAboiDVCHexS/hLpHcZj+u60fHP8X7F7+nZjXNdNz/XLS28ZJj77LpuWuOyRGvwCR1pA+M3OIP+LFWke8i5WALvoXJtcFaW96GlPlkt/dWqVeuPaAVpieVEp349IShav5+PVtwPCmPPaCYdTgysJWdhWkMItEeQriUx9snGCcYdgPIbw1mVjM2t/HMGZ4SZhhd16P6ELy0l3E22V9fN93ryZS8+Hr53ZlbQ6mVZ2bHPN8RHuX6aZtIYguQG/gJXA7FY2b8gj1+WBAac8eycYKuaGdFRA4p92sKXwT5f2po2dnam+XzFvuZv0rfi0tVRsXvrdqV3ypyz5qMIHcdI8Lsiy/ZJ21DMi/NSnfmo4hSk/mT2vWaxz9Ptm2++mcA+4anET3C1EsvO6ZfHcJt/DlKfOVNHn9WtMqUZHa0wfYJxUJ8VCPV/H5/6CHNA2WL5MwLzDdJ3Cjdu3HgDxHbOv//970QUmSzGiD4UqT1hfXhSd2D6Od/3BGHuvp6k0NLKLBbGsqZ5Zkx9KwbGUmIKTPcYAhe7hL9Ygir4wHswiNCqj7NMm88keqGaAo4PzXiq5Hj0JLBSXpCrTn/BBRfMZga8fsmSJXUZgO2QrNozk2zNcqLOwnzOwDPECiWNycyUBjN4NbBOovM11YWzLB/azA6zVQQb3lFmkG5pPnSWI3NYkrGkUQ8BFBMT83KIY7FwN9Fe3Vg+sXxjwLsYic7r7IFw006j+Yfyxc0Qo//SBqn37kv/0GWotSEqg/i43+tMAIJYs9az13ofKAAHj+C1EAsvsVla4h254bvOWe3CS/nKNvBzSK98ydiPjTEqN2/KNFk5z3vL1mVKuJ1gXhNhXNWQZJ5kb+pmJKJMGMQQaSe+8cYbp6GVmAUuE7AFe8s3Pt5ZOXCDDHF0H2AyUqO3YJrLNUFDslJURze+hGvaDxHV3syRkqao32aY00bB6dwgdQzffvvt9YF5h2u9EtHilZr8TzCc+fSlTdgCJoPSxP2YfjJP6ehf5VZKIR93rM2ivhEYacDRDn73YB3y1TlQ1dtl5vKXYrQK4UeKNviGuerbbOWZEJqPdTr59QQ3Wsr9EfphJsmEl3tiVEqdDtugfSFQhy0SSjbMYUwaXBs42DmbPYJ+dCjd73YTjKmmDiajWZXtpmOzfSaDaCfnk9i/TtEB21QtyQC3iFno14LT0pqBdwncy+N+2zMh0Da9Rsr9Y3y+be2ZjcO8Cs4dOfXE8bm5l4b8kf9t8/l+sCDClojwXowh1jDURq+Nv6BVyN896Pf9PXtAn+2GeA8d6hPBPWl41jU/FkbqrRx46r+c7Axhkp/6mzKo91cw4f/SXq3T7IuSD0mj2pNwDyDvtc4qV8RQeyoy4NaUxxmiEPgKQ7DLlYdJLKaiCcVTHzY+MjX5T01DwWmZl/lGSerMdjTqur0x8a+zwuEd1tWn/8+kKc+f+76eyErNqGn9XzW/f/bky3qNNu/FGoqQ64ue+2ZWnVW2/de5dnQ4z7P39s7EjCD4BTCnThDjLO7erMGe1xNMjG5RlZgsZUrK4R0MYSlunJjYb37zm31mYpJ42JNSPsrWTCYgrCGYjO/yyy+3NaHC/x3SXuFXX30VgmD2c5SVdnIeLJGlP0N4YRShGTNmSIHjDPpGA70zJKnFTNx2EuZ3vxrM3ZWXoHV4FMzNglm9zeFnHVbfzdD+JJYPNeGJMf3dIHYPcMcP+c9bsGDBYhSNjgbqVNpGNkZjsqgv7576wITsjRHRLrMXtze40mrDRMZsMTCB7ED8MeBZOJxK2wrIV9LtwZ0MllbJShjmMbAyXoq75KclQCSpfqjTJ7D+PgjCEmL5I5cZbOxACgOYmfMS9sG+h4B3IbtTmflGYWRSO9aemWbNUkuOzcJ8MBMmn4+3aXTdCF/17juXL1IN7poHQbvxoymtntqQO+bR4zumnl8/aWQrlLiyemX7+5Rj9pVpZYv4Ry+rm97/6/QGV+T+9OMEnseeNWZMwpjMzPzz3p/a6Kdw4KXB9ZOW/82yDAMTYaNeKt9ikJiLim+88cZpPMr+YuMM5HIxHy1FOcS6NvVpRKGbUSYowKr8UomSQ5CL1W/kkCG+AZmZ1txzezQbsTrn9rcXLb39ircntXnzkl5m46XbGxOGVGtxROZbqYVzL7Ws/9HgXVJUsZyKP2RSB6w96YJjaz49f/Xd3/+8XjNiGJgvqkkHtSz4JhK57fSOne+4J7DtW2Yvswc3nBN4tox3BoHSjRsFnPPqqEPKYl6ciypiXrRNxCoKUzdMjLLExMainXg6h52znPTlIvwsD+bRb/NYGkwmnxZYC6nL7KdJ+sKo7y6AkX3F83Fo1DagDw8j/HfcU2i0BgWECaMx2IwJ3H+4JcJCG9FCG3ecIpx3La+F4kYakryW1KMoaZyC1PQqkuUMltTn857XwhzX8RmcLaQxdYAp6fJr9ZO9Lo+BE11DJtwUcJh6HPUQAzv26aef7oE7zWUA+CvMsD3QlsyTuI3kG9xiUpWDB9PnWfZtz2SkOXgPQAcWc83Z98CX2pfdysKQNX7F1M8HX7z+kPD8nuJRhnHBPLcEBjwGVgIh7qO75McAz2b2abE8yPhNiDBLlWLGPFSflwuWQambCKIwqxkM3C4Q4wBEIMQSozqgmIhF59ZZD3nZlO/FprUV/W33dg+syv72oxcKondeOnrK829ddNKipzbkvffHdkemDmic+u/G6SlTrP4jAwyGcs28etPHs8m/S4PaE5Zu3nnFxnCkL49jc5OTNXCsb7fl/v7kVkdY57Ws8RAMzMpkyZDBUixv6miYGO0zSyVKt68GbUx9u2ivzMshoFKlXs8ekKRVPzP7/3H90L0M3qY8f/v8888vIK8iDTMpDzC4Sz2fNiA2QfB1aVJ7xqcLV7w/rV7983/a+PM/qf9FF42cdOloX0Lm8JSCnQOObX01DMxyGd7e2jcE4poJUK/GtVfcOXbO1/P8/o6nvjOl1fiLT1qqSccdn06v9drPO+9ovWXV+gtP6vCu8ntmcEbk2VIuW4HI6vb5wtGjR3f88ccfsx3J60lX8oJ5SeoP4+L4AvFMjOXEseyJnYbklA1Ogthi707lljT333//tkGDBhVw+4VWDM6AwfwfeWaBx4b06w9ZKtddfBbag49AQIf/+c9/zudg8iDsUfThl1j2W0J/TkIa6Abcrew91eVyXuvWW2/dcsopp7yg8rTcDoGVIobC57ds2dLikLnNuKgFAb8KRYurVAbjJ4+7D9dzy80SJnj6ksDbMK/ZTp33SNzddrmEHMnuTc6V3aolUvL+LfHTKmofDAnV3PdI2X2o80RJRhdddNH5vEPzBXH6sVYK1EejwNbh3b0KzFnUT0cGtLdoM9k9nv0ttVXjqhjjU9uc9617HUWPL1cY0tcSpFxDP8h3tzSC8YyHgTIxoE6lSNwAKsJaFrOPOuqobcxSbdb3H3YSBrR3JD93+g2AINkwLi29RSA021lSbK44ES65Mk6+Zqnss4U/vddj/AKbpb1RjV4d//w5k36w56za8FkM0sAaOPd5T+7I2M0J1tfrtx11zZg5dvvXxs914W/47Ot6tV4dv3PYtHna16qmcNxy5+3mcyBdF28sofVjw98m7wL2Y2zOEtkQKD2/pfJEQOQ6ZjKEWHGSqhKcMPOe5M9y9uxoW+f7J31jW6+Mt/uPnnq39cKnPz/x9U8E2xfHwznp9+5I+QXz72nz/td3wvd2j+ETrnITHfnahDt/M+1He+ryNZoXWIOf+SK2HuoCOK6kDXlhyq25bWTjtGnTbLT9nnDBqFux98Gz2mXCWMIbitRhk66Qw8LdlCa+T7l5lHBNWi4//ojlQOEsF6YixmIjDem5rwNv8Mh7eA7pTuEiljbLuDaSoc1EzeaqL4XbSHQ2ly8LjxcqrfsOnbqa9nFrx3McPxH8zhYtWpjy8GtCY/LQGOGzKjaMzIYpPEK4a4reoxtQhmvaxY0c47kbUcugO6j3EYItB07KyLLsYLf/waBvU52ZYNncGNNfKZy4onrznK14+m+UlQxb9q677rJh3KcJ3mFQ8hYzkqoVgDR5OQf09aUBm3Nz9yjMjZPfM7tjIJ447B77Kw5hZucuWYQ/+OCDmQzitsya05i5auN7ilDDANbN80baQJKYJXVhOl6K9gCYPS1kj2A5YEa13EWl8iWdJKvo6W2aZn7z87dnPxq1LmnNweib6yes7NKo9m8EC1HYtezoJt6Dy4gy9Ti2Ttqimr7oQi5o7HzmyIlHfTrglIUfr/t58NmtWycf3yz1/yh/xzNffKFbEgr3kF2FRzmSpQ7HfsI+zdPcsnAD34SydPMJTMqC+LVEy81ihqt2iUjomqtUHYBlWab6zTffLDFFREHSrYij1QfppXdMsvxy6o9rn7kqP3r9iHUbHxzavrV1fstaDwL/zmDaDtw+tX1wwzQfS4JWs7SUrFqFBbf9ELVEkF7LzJqXet+K1Xf+Nrx1Z89mLQwzKkv64notafKJ6DVDCqpFH3kKaf5m1Zt3vZsyA3UlOHZOjD2xIUg/NrgaQvu1jDULhlhEOJVHSUNasvBZHDD+I5OqTkgNjXUFFMzQuvbaa3U7TFMkL0tLtTArrRZcR/9di//PqLv72WfSjRomWyZtBoYJ3Dq9J/J9T8zLeYeSglQX3VR/DdLbqWvXrtXXApKR0rainbuF5b5mUnDS8QAYt/Xyyy+HUYiSksIdMLE89l//Cl7MxcIl21HymXIl7UWpxz/Jry/LsClIPHcDd527DFcyzQF6ro9Uapbcac8q5SkFDbfeLC+eQlt7fffdd+G//OUv1mWXXfYR0qtP+4Xg2tALpFWtThSrjvOe1B/9tONeSW3gex305kkB6mIFlpyLpfEePAyUCwN0LjPbw20LAXmaQfgSBOA+nlOUgTpffEY838hNBK/QwV/E38eBMXnEwxn/sE8S5T45c/6rDUZOtW/8eGaYrwaepLCRfPBQ7j4bR1J4eNq8J/tMXGj3fHPiAOVR89Xx2/4z5Zut1Km6nnFLr5MiD6KhHkX4w38WxPlliNL73Egxgmcza1VdZVUt3POBeRP3t041i9K71SbOSAK5tt3slo9n7rTenGS/OmfhBBee+N3SuGnLckljyl/PHt2gD2ZE2r8+cbVgW742fvCAqUvtiUtW/kPPZUlfinPLVf2wRvnACd/ju3DLdmCVzhzCwt1rO4AxuMCtjv0zk4N3OJf1Ict6D/Ncx60X/qK88LfA3k4/fhX497Dv0p+fJuxKbJrSxEs6EHAzCYaAXy3Jigme/eabb9os7w0DvgFWt8cfhZUi1N2U/xkXZduSCtlHkyS2UVdSKV/MHnERAzH/pl1MFt/RlWRIpfZzzz3XWzFirAbiAP257YNpvoK1+eDqdj7bo/03KWYF3HiY9d34be56tLkSzUhP8VWg7UU4jg+HoZn6Ik3ehwRms/do08dvEow+YBoP6/k9DOwzBsrqeGWFxxdQFoykBMGdPiLrGOvlsRvP/eBzO2PUNC74GzPIpN/DINSgcTt9fFnyS7KSO3rBsosuhbB2fGPiwy1fmzjwyhnL7Bk//WwGVWaWfUAHuMrbH+PgqFTCFY+/eP8ey3OYeM3Xxv+r0zsz7H4fzLKrvzJuoTXsk3STrgxCQpzu0AuB21Lronilv2fCl1M7jZ5pX/belOOtV8Z9/UD211TNKJ9A2GMMQ3DlMaQrq6xiydX2+HrpuRjAHh6ANcS+NJD4fOQvD/EHLr7/mPqrT3Ix7yIxL5Q0CpDkBpZWnhtGHsf97W9/W4OKuA3zysdtrzjl48LsySW9KRe3PlLlzywj2hD/ReDIMOV4XO0pn9LilNYZY+67MS4MaqwYGJLsGr6LVktpBesyMOKGiYEhgUYHDhx4rOLJRxNRidKlvi93IkDd+3J7SVhLhyzBfqK0GLf82JP3XyoGPCSVipZdgayO0P+MFBDE1exZrlZNzLLVLkgzyw6KCMgKtjQYnfXSQeJ/f/Z1tWn54dG/b9m01kMntJndNjlkdUpK+NcVH02pyW22YUbHbu9G5UpFl4FT6gb+mowM7V9Y3ZrXm1Vt09oIlOby7Vb0wXb5W3JPaFrXLEkM6R1baoyv96H0OziKCq/Cm4hCafgTnHDqwpVWZ2kFWpx1O3/UpIGb02r+6W9t6v98Y+t6iwK167U5u2G1vyqNDjmXlpYw7acUUr7qshvBQboy6epXS5xYF2WShTsKhvWrU+vYLg1qDaNuqzPY+xpQ/OB0GcXE+onKwJhl3zIBnQi13alXmX2vrDxIq0PGfs3mRTBFnIVDp/yiPqwyIMJSIJHEq4tkDazgnfehMMB2Kf4QZ/CE1FCbpbK6KDFZKC/MZyntVdUHeL3PIOUmsFSZwLNZWSCP2SilbJOiEwol9p133mnqQX5lNaNYOOmjag/uOo6w9GevLso5TG7gOtIcQ/gFSkh+9gbN5E94dsaYWbqGKRkmxfJhHRQydGPJZlZhthWrUOyhvhvPPt9mBdFu9+LhIjzHp0Ohx7x/lpSHsWweoB2L2We8QjDCdTys5/cwUAkwsKtTtn99wjv9pyyxv1y5/kNVbMRXS2Z1/PQ7++K3p8QURBxJwq00A8swtOuuu+5UNMvucMNLcU3HR1KYeRRS3cWffmVn/bDq34Lb0xJXKflUrSAHX3d/NifDeumz6LNfL4cG2H1yCgt7/236Qrv5q+Py/z7x66NMo4rj1uALDbpEJLC7+GJyD8G4+HaR4CrJfLRo1alXffKFbb020X4g+yt9abi1YHB3m3C4aQ9X18URCia1L7nkkk1aEkSikr0fhuAuCxZrPkwyg2ukprIUJ6JuI3msBHflXhaNz8xdYiP9eSih7GD5+TLFi+HGw+3JLwYdH3/MMcfUZz+7FbeFNHDD+fhqMvVeibWlBeqGx7tIaJMUj4S2nHqVa6meepu+h7LXKLR3l/DcQnnilrv+8XX4Nfo9Ln8Q33rRTRuPfTjEatksc0KbWktOObKJVJQ3bbftMx+aumDM/d/+GGaad7x1y7lzmcIFdGOHqqiBppkhRHYmSgzHc81VKmfPdmgQYIpmeFqelIT35KyFf/vfmpyhv0kLbrq3T0d9l0yEYjdlgYPY/IorSsxdqvuZr9az6tacmdm9Y8tb2ta/p05y4gMqdPziVe9d9sPm8zcsW/a2deM5/R2cKcqOw2sXZvFzkCQeQw38Ns3I3W+7CVDEGivpLP2mT2Z99Y0vseU9R9R68qyjmt0MxQwaqVmAvyITj8e33nprBt9nO4EbPfKRQBKRRnT7hs4/raXv7QRWXxdugWJDe24esVArj6LM4YeZ3YzK+JNiOjCAUlcW9oRS8jR9Gtdc7Lsn2JJxWv6TGjzvOoV3fzuSkETA5uzfSRorRHlmFcc2XkTiGk+YznSmoVwxEk1SncQwMCjJPEX4xSybqvwUjtoUkGYF8UHauRWljn74V2E1wSkmcVNnkpiVBTEs+SWx7ZPyFuk842Gg4jGQ6czQxy1ZUv21uYvyJi1ZTV+1zVp51o8/mhnol6vWvzENTjbym8VDVaMsZyYGnJloMMtM5kaGDRDYHwkzM0c3zm2BlrLkP2PkpNsvQcIbu2hF7NaJfZiVunlVFdfd+xv+1eI7puXY9uINW98wdXdwAY7ajlu80n7zy8X2hIUrGivOfR/a99IzWoKDOAdlc1P6bXreTX3ZeQfkFezw5sQfhk7+Dq9tNvNxi83ilf7XYty2456MNmHk3nvvtZFejHQFDnZz0R600dLTBy5tGMNfHDzt10TarcO+4FzMS/C6Hk5n09jDK6qr6o/UVfSMZLkK5rqDc3T2FVdc4d7i4kfxIgkNwzVkI23EKPlEnSMgJq3ayQ0nbVSOlm/lljTUvajtv6QdJfPznj0MVCgG1EmxfbBSh9ZygZ5NJ8aVttg52GZOnAln5u8uKVzM11vtr7/++j+KjwvXozIz8BD0FJRDVgyd+CVZFS1LlDqAYgmr9j9tdPHXBP+ZWLPXgqv9HDeuM/5TsC4uTaPdeNT2p0t7DtNKEbjFlgS5CNgwuuPeyLqmN2f3Pl6w/CWTwa53Yx5/jX8ucQZnRyOBPY/UsQR1+XyOn9gc+DWWTw7Z3GBRwD2Jy9FqfAnYjg6uJIKYd7Q/uNuXPNxlQ655O4Llzq1iVtpH4yynzXJoDuNrCfVcjH8b2o02y4M6s1YoBsaERyr7MtpH9HMN10ykR8EUsvemJdEI6XfOnj3bRsX/uRhoTAHI8e/mqO77Uv/dMvACPAwcCgzQaYuYSskO7D67rurHIcdFHODcQFiqnnGLEVnUEA2RPfutrDvPmbzE/vj7n54SnEt85T9cTTye1MZ43MT749vv7pU8+uijp6JZZqMybiSCsiYG5JPQ6vUJP94zeZ7N5pfurFM5Re8wPu9fmz8eD/gTsUdgT8Kejj0Nq8lDW6w5giL8uPg/yLgqYpZITDNQ/zf7dlzXpUP+12IbY6upnlhNiG7na9OrxZy0b4eEeaXq60ruxCchTfbX/h97Zzbn354kTBNRMxESLP6iMvXsGQ8DVRoDdGgzeyvZCHX0knHxnR//dVizJIFbnHDq0l+Zf4yubT358bp7s78BJCbluQoIJcs73J5pryQu4XY3gkGY0b6Lb7Pg9cxSlgjr79y4kum1r2jihr1/izXmO/uD+T+aW0J01ZebxnNjzBzcFZNwS8OLGBdwhwR37tIhS4JX6NYMDnDb7N+toT5NS6urwriDcijw5owXh4r7Kkz5uEyMx36S0pQfTM4cTheMTMm+FAv1/g8UBorP4A9Url4+e8QAm7W6g67Yhq4SEKZd3WJxCnMzw/8cdpEGP65R7nDjsoaYTWJr1DkdTpx6xZn1Ljqy4fPALOjP2STnnkAX9LB1aW8UK/wV4cxtLGG6KLWYkgDPRmWezXp9kPR5YM1SDv6i9CJAWc5ddCNObn/Z1M7NrFNaN35Q+WbdVHc3RumW92t0wZvBMTjTRMJMGHDFrFyrMN2koXdUrP8eLHw5N7voPs3rdDMIB491y8gfqM8KpPBkp96qv/+TT2KXDXz//fcNiVcVC7glY4M8uoWDYxfyWnx2qZXidYsGlxebeJh0EnkQvKsvGWDv74BiwGNgBxSdFZsZA0KEQFpXuw3+3s4loZd0aD21Z3X/6Z0a1fmjajOyf3HNp4qtYdXLXQRGOHVUskVxipiXWqNnN+zSjkfc1rN+WrfUhISvmFr7RIirXosrvsbgSxMJw8xwxaxcq7DdJm4VX6NYCSwNi95FkZaac56rK3XRpblLYWCjBcFeWB5hpo6qJ8zNvF8uW25IH9Fnf3ZwV+d6wZJGihumr3BzTH0n3uI6q1WKR6Gl1ImU4jxz4DCwV3H/wBXl5bS/GGBQlUkwiRMhxvFtpJxxKst5LkaQ97cOh2N6cCaiulfCCtxctd/Da9XsBWiYatkyiqTUDgksNT09Xe9yKu81n/CSqxoSucxEEWZXGxhJbdtIs0mt515Dm8PZZmwRZzRbcXOB0fjTHZPeuBMiKth4ElgFI/hgZs8AYjwW7aPxWFyaOJh1ORzLArdaAiv1hpXDsb2HcZtaMDYkXetmjS+ddpakhWbNECkrCTjDwID7Gak7T/BKKynMSduQfCzOgOXobkeFxcU5IJ5TERgo+dIqogwvz4OIAQaWxDBv+aICcA5etby02/JtBRTlZVkBGOD2e1diSnez55yWWRLkMLMbZFxU7Q0D42B7Pd55A+1v8QUBAwuA9sh0jMWV2uvqGingtqFqbxiYJLSiDLn5JaYJXFy5SBcbmHObTDqLYD3PPmHAW0LcJ3R5wB4GPAxUdQzk5eXZ7GuZZshfWnuWLl2qyX2EJcHzYUzp+pAqt4isc2AlhZvlfCQ0HWmp4YSvJ1wTHJy41Q/u55xjAK7X+rNEP7voVh4tUxLshjv5eE45MeAxsHIiygPzMOBhoGpjAA1E0wB9qJOrrIwfBmVusC/RMp9zjZgPxnWLlgfFwJDC1goOpqWbRCQ12YSlEVdbMEhoJp5ww/wEa8yLYy/vlRJsuMG/4fF5Pl+BpK5RA7oWXvRO9nGjcwrOsvKjz8HU1nhMzEVY+V1vCbH8uPIgPQx4GKjCGODcllmq48Leldwnqv0v2d5qEpKYT/dfysKgzBk1rpcayhnBNsBIO9GqWbOmkcBQodcnV0xehNdhObEajFBKHvEMTNkamIda1f+/nQ1bPNzQrn+bAudc37Xwjx/PbT56W0HWIxkdhq6+9KRGCh8ZY3zyeqacGPAYWDkR5YF5GPAwULUxwLVRZs+Kc1tzW7RoEeHmFX3O5QLuQ+yH1mCBpC5ZpKswB5Jv4cOS97Zs2dJifyvgMDvde2hxqXaBs8SotUJ9tDMkCY0PhZp4GKVBFGfBDCO8qkubh3taudaigsJ7rho9rZ4iH16/8b0/tGtTbUCztEca1ag2x0LF/9dyXtMg5wD9eQzsACHSy8bDgIeByo0Bvr+l/Sk/X3JYCIMah9agtXbt2gg30X/EF6JfJuw6Pkh5/YUXXvgJX41+jPsPdUh57vLly/2S2JYsWXI1cQO57LeX+6UC9tLqKk4MjIt9VwsDuGZfDUnOKPw0Tk9+qXft5GnV6jWsvrqg4L6mr4576uxWrToNbJI6oUn1VHNe045X+qjcaPRq52HAw4CHAQ8DhwIDSEtGKsJtO3bs2HwYlphNmBs27FatWtkO87Hvuecee/HixW8gmZ152WWXCSaPT6lEYVT6Jth/4+p+J36bA9E2n5PRp1O0R1akW0A5xr8lt7DvA1O+sxu8NsHu+f4s+6MFy1cRZ/bfXJi4PD1vOTFQhOhywntgHgY8DHgYqLIYYMlPX6iWFuEC3BNgSi/ykdhOCxYssHJycqzU1FSrY8eOFnth77DXNZCGijHN4/xXeyl+cFuH1a5du7nDhw83OGA5MZ3b9S2uI7PIay2fOtKneaTkYeIpJ8xt2qEayaEJz8xc8MHaUMJ5Vyb5Cs8+utllxOlibn1ZutAAe38eBjwMeBjwMOBhYG8YiL8JHybSDyWOf8HAnpPL8ynx6Xmujwr9UOczMDfyXDTxx38Eih4P4V6LdaU7o7yhPNwvQZw8YlLb6q+O+/nE0TPsriMm2dbzn5xrynAvio4v0PN7GPAw4GHAw4CHgT1hwGU4ZcCYi52BKWJGJeH2FCdYnfWSO3L6iuRqr4xb+PtJ8+0vVm2Yf95Hs+1ufBTV/fisUZ8XoGc8DHgY8DDgYcDDQHkxICaEDUoic62e45kTft28YeJLi9NF0CXD45lSxpsTRl3M19FnrVz3PnCpz89euPjIj7+2B743NfZxTOdjqeWtswfnYcDDgIcBDwMeBioMA670ZT3y3l+tD760xy1asQTmVVcFrtueO/D3kxfY1uMfbLD+PbKlqYT7Pb8Kq5GXsYcBDwMeBjwMeBjYCwYyY59tsT5ZvLjuyK+X2lk/rIZ32Z2UbNgnixPlzly2dsKsnbY9as6iu/T8DFKcXM94GPAw4GHAw4CHgUOGAZiV2TfDTcRegu2syuDqawZuXCP8A7GtnLgy99oOWUO8gj0MeBjwMOBhwMOAmJeLBfzFLpDg2WNeLnI818OAhwEPAx4GKgcGYE5S8ChiXm6txMSwCXLdMM/1MOBhwMOAhwEPAx4GPAx4GPAw4GHAw4CHAQ8DHgY8DHgY8DDgYcDDgIcBDwMeBjwMeBjwMOBhwMOAhwEPAx4GPAx4GPAw4GHAw4CHAQ8DHgY8DHgY8DDgYcDDgIcBDwMeBjwMeBjwMOBhwMOAhwEPAx4GPAx4GPAw4GHAw4CHAQ8DHgY8DHgY8DDgYcDDgIcBDwMeBjwMeBjwMOBhwMOAhwEPAx4GPAx4GPAw4GHAw0CVx0BGRkZI9hA05Nd0U/kvaesvSXMIXqNXpIcBDwMeBg4CBpwPEh7yW8L79+8ff4v5YUuouZH9sG3bQeiuXhEeBjwMeBgowkA8MS3y9+nT59pevXrdWARV8R5T9uDBg1OuueaapIov7pCVUIRj2lnjkNXCK7hKYqCo81TJ2nuV9jBwYDGg8WD37Nmzkd/vL+zbt+9GpLEojOtWnu8h7t46deq8MGrUqMiBLbZ4bpK8VMb1119/KdLJQz6f7+5nnnnmLcIT2rdvH503b56teEmKq1evNlJao0aN9BxVTm745s2bo8DbPNsE226+LozjmjS9e/cOtmnTxkc+gg/Hw+BXOb5nn31W4crLUl41a9Y0UqrKpk4+pyyTn+JHjhwZpe4GXmkwPvIOKK+4ukVh0tWJG0lbc5OSki597LHH8gVrZWb6elu9/NmZfUx9emdmBbOH9I5YPkO27FtvvTU9Pz9/NO/m6qeffnoV+YSUr+olt+R76j9yZGDU/P62lemL1VHP/ftHyS++jqqnZzwMVF0M2Lbl++KLjNC+WBv4rKzeQbfVI0f2DyhsT3ko3o5L46bdk5uZafmVbt7I9gkmPc/x8LYTX2a5z1Cm6kYb49OV5gfGlFVmXqr/L2hDaWVVhjAxCNUDYv409ndunfA/igT2Nz0fwH0w4T/eusVZIsR6uO666z6FiV1SFBHngREU9TU3WEtxhBfrD25cvBsPU1oahcXDl/THpy8Zx7MvPn2cf7c8YUCJSv+73/3uJNo6Vf6ivOPaAf/1E7GrXY6/NzgAPx3LklCL8oplvCu92hef317aq+SeqZwY2K1TVc5qHrxaibAzwduvGdmByKO0FpeVrxvuuqWlLS1MDLf3+rq2b8DuEsW+5lVa/lUpzJVOTj755H50gNeo+1rc/ysoKJiekJAwjWd9WffZSZMm/QO/xs1+9RHSl2pEdLGSSpoBMBY7qbCw8B7qEgoGg8k8Hx+JRJa/8MIL02688caa4XD4UuICmDefeuqpzcpUaanr5dhJhG/E5jz55JNrIfZ9kVimvfzyy3ki/ORjP//8898oDQykB5LMSdFo9KvnnnvuM4UB0468twJ3GnG+TZs2vepKNTfffHNz6nU+YCSJvgdcM+w6pLQlSjto0KCeoVBoFQVppOUAAEAASURBVJLRMhe3CqecC4FrjXcysJ8rDAZ2P/n3p75/pOyPDHMBB91fn9TBH7LrTLu0d5bger4xsZ8vEvlu6sDTftKz8k1PT8/Ytm3bnAYNGlSjbZKcg9T3bKInktdsg88hQzSq7RPfzDox6k9YM/2ynqaOJwyfeHwwGl0/9TenLnXLVL6eqToY2G0WV3WqfuBr6hLtLVM61PRFA/0s2+e3/HtfXgj4GcK2PzEatlfU6PPleDHAzVmdOgX8vi7+gD8vQuRutbUtO+CzNNNek3ryXEMwdoOJC3DrtjHr2CYJoeAF0Shpo3Y4lBAd7fN9vUpSlc83KrJlWsYR/kL7ZOaYBZDZYhMUs9bksyNRn39F1C6YV+OkbEPwJAX6+mSbZRoVmYkURxui26Z0bGNZgZ52dPe8BBegDVErGqSUrWknffWB0kDVcSqGuKvMijIQZsOQIKJfQgSXUs53MIe506dPX88S4iKIriSLDwnfb+YlovrTTz9VU1tYMrO3bt3qh9gXiLFoKU7hlJVGkYJpQZzGaU/s44RPoX6vinhDqEXYxVx91PUz4o6H6TTgOYu0nwF3MWFXwYT7I6VswT8MZnwq8WvosTcCo3x/B8PT3t5txD9L2IMwmU4Q/3/ynAncMYS9gP/iGjVq9AFuIPDHk+dwwt6kjPrEf49V/TKw50mygpk8S/zVPC9zlhoj5PsUcG0Jew/7GnW9j6XR1wmrzXMN3Oa4Vv927XyjcH3BwiRGydjjX/+ktj+YcgZBmbnbdxwnGBmYV3XKf7du3boZubm5QdJPpr4f4a4kejT1vBxcT+2fnp5Mfrm84Ct9VqEmAVd3e2V8bfrvi3bIf5Hy8kzVxIA6sGccDMyZkwE+5hQGfKkDUhv6n45uLbSYeDqxdP/d6HKMLzFQLV+C38rZEs3NmXxS87STp6wPBPxvptUJtY3uiJCH4JSPm5chUJYv5LO2b7OtnbOOa5bSbfYKw4RKkYZMBbJ7w3+yw0F/8M+pjRJviW6kbrVDVs6K/E7ED1pWd72YYcQfsR9Ja5RwXnhz2AoG3TKdcuXA+fILI1ZBYWjDtsldPkoIWg/4emT/EF92u3b9gRzFWlBgWGr9hDMiW8NWAG5r6l+SPSkYbrltUo9uljV9dnYW9YxjhsRWFRPV8uCUKVPWsGSoGfpUjJnpQxC/VSMmT578rWDmzJlT+Esa5Uoiq1atOhZp6q/0mzykGDsFQxnzyDNTEg6EN4R0Mg/3CwjyY0hJayD+1YCZC2MxS4rEKf0qnm9WXYifccMNN5xFWAceBXeTEy7JKrhjx44ojHCHylM4eeWrfPlx/4S9mnKmkO8k4t4m+J/YrfhHUpeHyf9D/O848H/BfQP4e/UsgzS4FIZ6HV5fXl7eacCugTl9AQMJYguJPwomexbxR5JfIRLa99TrEZ5fp43DkRIbEP4EsP7MAQMivbPY7+rTZ3bPEVmPI3hOopL50bB1/pzrz92Z8cwzoTnXX+++g63k64Mxb8FdR/v+/NJLL62nHQ3J+1TsVKwxtt8/2mdHVaYVSgheT8tnTxvQZ2GJ/GLA3n+VwIDHwOJf05w55imaPyPB2trB2pEb3AHFF2PAiJOJesebQjaDoQdIItbOAPtKm8OR8I8pgoAgBPO2hK3CsF1AIj8gABoBJZYBAJYPzhbd7svPXV+HwBVWf80792LgKvamMHWLbk3bFK5Ojcw+QovclYYwkTrB3hqx8vKjuXaeL8HywbGKysVrpfgsf2IgFMytk5QSuCZnW/jKnMmdr/KdPGqElhT7wHz6z49JIwCHwrQhNy+aT9uRtOLzIsS0KWD7fTuTrOj3dVXz3la2nCppWrVqFYU5qe7S+ivSiIMYm3e6v42COekFSOpaigTzLwh4RM90hQCEN0d+GSkgyCU8GRhJJzJ+njfGvCauDvU6BkI9gvAE/PUh4FEYQUtgZrtwuJuUP1IQjm1TthHE8SJl+3iv6tU+MdC/IhHlEp6OXe+kV/22yK+kwBg/bm2eTRk33XRT6s6dO8MsXy6lLkvIYwBxJ2LfV7ply5aJxlC18JG0ZQlMTYzHBzP9HsZl2g8zTwG+VByHw9bDqY2b/D5v3crrZlzV54ezPlmcOKbfkabeyp+6mFkkdQiS5/bExEQzRskvl/JicNu2mXJ25kZnVUvyhU4cMbEj8WdFfP7ByqNVzZrR2MjXk2eqEgbMy69KFa7IumZkmP5sBWrflWDVbGqFApFqyYkJCSlJoYSEkF+MTIPRWBhHMDkxmJCcGEpIYtSkJucG/Ynd0mq0HRmb4foD0ZCRgKwgAcHEUCCkfGJpgglJJEpJzAulVO8aTGn5ojObHLnX5kF1or5YvokWrrhi8USKh+DAfCRChYJ+p9wA7UhOSAjMDNn5U+3CsBXOyYkWBANWMCUpMHzr5C5niHnFK5WQsR2U5EVblVdCUV5qN21ITEhMDOUnpdRqbyU2fcZZgswsXp0q+gSB2xRXdbWtaIlV4dJog6r7XDcONuaNUzwwMErTv78ZbyyvtYZ4P4DEkokdgv9BGM9v3TzWr19viDDP6heupKH3XDReIc6Snr5FarkMIq60R7Ev9ikuEym7Pq4xxJn+CFNUnklIR4YJEl4InJtflPz+CXO5iKW485HeTlDiuHik+WB8+fmkbyoY9ta2a+lTftrxNGn+he1M/HCFtWjRwsXbOsIbKQyD15bmoTkegF95u+1UrA/py6Sjfw7LXbPyKyCM5CnmJSlNmSB1qW0GzvEruMioED20p2p6B1/9to8Y8Ndk/y59+ouZl/VaIOlrFBJfUSLPU6UwIGLsGRcDGc8wkJ61Eo+6c3akMHdpQl27MGqjCRxIjlqb56T7fjynke0/0fZF1/ishM6F1lH/WGb5klhAi7AHZlWrFkr40kpptMZkR2hsXCbaPnuGZTcZs8pXo1OOL5rnR2+XH4yHGbYVCC1KSG28NFYFVHz3YpCBDNcCzMDyJ8K0y0ijysQk2X57umXXem6jr8m5P9vhnUHbF4gGCjenp+fPb5i37M9WYaRGNBxJKgwFbTHnZ37ManE0e2F5Wk7UEmKMuqmEZNsfnWbZDUau89XrvckOb4eh+TWFBz12QiQYWJ9YrQnKAKzK9B4CDjN31acK+eIYRxgC3K9Hjx4fswf2M01IhTjHtcT2jRrgM0RvFMu2JkJ4d9WxRWAdVW3FuQTSVYCA6cwl+Axs/Lszb03w7Om4folN7hkwSSgi+sbA8F5DqhmLxDMYmMUEnjVw4EDtWz1B3ccQDqGmTih94IYpuwAJSXttD+B+RvgA4D5SZrjvwkjvv/baa/8EozqW+GTq+F/CJYVWEwwSYogyjTRI+HPk+Shwq/CnEx3VXhZMUEuP2kfLIv0GZ/nQMBiY4myWIdeR5gXq/TzpHwfuPeWNK/yqrJgZOlT1tnsOz36DMRSdfsUpnfEvx9477fLef5/Xrp3oVgHLon7mjnWol6RJP22oRR1cppwGTKoylNo+G5nyamiMC1VL65+/I+d/ej538OAIy5HyeqYKYsB92VWw6ge+ygyCiAZ9KLne5GB68yMC1VscHazesl0grWHbyNp3b0hO7sIIyA0nJNaw7IKfVgWrH3lsqHqzo0LVW7YN1mjZzF+t8fnkEZtJ2hHGisZhQTQpqYsVWfvBdcrHn96iXah6C9K0UJoWwbQmp5Nmp8rFxFPJ/WxgfrhaeoYV2fTeE4HUBu3UjlD15kcHa3c80mp0eX9/kyc2JwTW+CVZ5ebbhelpweY1/bUGmkLbzzfLTLEKQJftvHC1tC5W4bp37gmk1nPyanFUIL05bWhxRDC16QnUfe2Bb8N+omAfk7P3ZfAPIfwbSZtA7P+oLCCus6GLM+VPS0vTe7V7DM+6JOOLL0InvD6x54kjxrcxzEsMQxYNuh4jso87/o2xRyrNiW9lnSq3FENeZroht8joPJXz8Dzut/JT/izw+7r8YgxIPgt4vgh7PLgfhPtzampqPoziK/zXYtUXtdT3A26i0tGOATiSzk4mfBDhHygc5nMLzigYwW24XWm/KRN4LQlMworJrMb+V/t4wL+F/0aCVf6pwLHUDudib4vw7wgz9czOzlaw6mvoDEzwAuLYHw78nuAXyedPiid8Ho7aGjPSQBw5vRbDZ2FCvu9KBTJvk1blTvnbz59vmCI42UF5/6DdW5Acc4kaxnZijmAw7xI/Xp5GjZ6N5CxK02AUtpPCO7aPnHl5n2XaZ8s8oGPOlOD9eRg4tBhgoMQ6O9Ww+1uGmG+emHheeNZxds7kLgX5M7va2yZ3/nHFSEsaTaJABj4z0xFaCNs2qcuCws+7GvjCz4+zt06y+hnYTJbjYsaksUeaJZ+i8py43Rx3aW/rpC5P2F92o/wuO+2vutks/b0mYPuT1oZIUe4n9tzjYvHAbZ3cZqjis3oXlatH6Kzdc8dX99jbsix725QTCuwvTF21BGW5ZdHW8fYXps259txu9pbsJteZ+GeM9qS8sTbQ7nicKaIKm5KTuvh3E1sypHE9h2cN6vFm1nDs/RkffiHpyOoNY9GSlPzd35g4EAWEW7An9ByRLYYYW3aUJ2aUb0nrxsktKldMw41w8ewyBTfcdeNhFSZpC8nnPDe+pFuefErmWVYayjobK2a0mykrTYlwt82ua/IRoynKMG5sFoWV8MTnafxOmp4vTE3jXSzV5EJJ+o+0i/BaIgvvsYpgYFfHqCIVPhjVZFYHnTASkT3nz4P91qhnI4GEzhRtJn6mCjpY0qTVuQy0D6H4mWw0DFE4txgUG3tmeq2VJSbKSGafW77MokzMLNs3QEtQxdOYAg7In4qIzTx7/2ewz+r6rBiX3/rhsRBtnJb7/WNvplTvcEXO9rCdj3Ia0B3WT+2Z5jsx253FOrWgfrTB729IG1ZavuuL9itibchkghxrtxpiwg5I9Q9NJlERPaxKl0Sm9rgvaFfbdoaYvhQ+xeZRxznndt3JHksCS4UFSiQTDvnGJkSs+6M+64hoNPyQwtpzCwRLjq7ZlZcbUtw1N2c4t1mYWzekYo8xS5bULyrGgrTm080cUlVHAtJSoWCDWjaTRESWS5B4zL4XzCWkmzZUjKQjSZzKh0cfcUEpj7j5KR8nf93MoTJ9PPud/JXO0A7l06FDh4Bze0Z3+tcLyl/x2KIBg9/glXoFVI5bX4VrrA0YMMDkrbQYU0ejidi7dyTb5wvH9hH7W6Oc9sfAipdDe4LUJ6w84+oe7d2rVzBbgze54Cwr6psw/Yo+s5Wfuwzs5uW5VQ8D7sCsejU/SDWWNMK+UHjbpM7npSQH3kcjrzAhwR/KK4guTw/+3NbXYyWaW1phgTcwyEGoGXySwJKT/EezPBfhKFmAs2CLYQKbfGxEGQAGIknS4Avj03p9ebvysIZavqG0a8gQyx6KX67CYHpRtx6SwNLTgzfl5IRz09KDydu2hV+vfvLcqySB+fr9kC8JLC0tcFbO9khuWloweXtO4X1pJ385xE0vtNlfDA75uj5bmDvvrt8kFcx+PWfbxkJ/IBRiPyuPU10dqveY+4PgJIGlpgT65uyMhFGj54BodBk1WoucGcRVc9nHY4/EZ32VtvaIa3Qg2sWF0ldx444N87qctijMZnkr2R/Jvw/Cu4a9wObTL+99u+LZd+rKctjqF198cbWee76Z9QGy/Nzpl/fJzHjmC1S/u8aWlxV5+Jl4fBk8VbYmxpiWp7BR2d7L/tTHk8D2B3tWU1Kv3EsO6HxA6VKSqx0ZDCRA782El/0I2wokB6ztm/Oq259Yd8H5pPJriGVs8i9pzmQdI6BpOS6B2Et55Yhe6qhph9OX5OWJpvq4kMBoHCb5C33a/C5uEEZhXnZiQkqLhITEFjHlFE4tqw2cf9uek99mR7MFd5JonTVKmna73+xRPMMq8RTPuGIVdqcoubm1YPSjZvym76weIyacLoY2Y0CPXN7z1aip/8ttHWhbYxdEntPznMEZYem4HMbGxVelZF7Cu1Gm0XKiq2xzGL+MX0vTPAZW4W9a4zro27l9aiHyiqvZoVIjvm1WCrHbrBp3QPQftdZPPSotsdBOtBNDUd/OiM9OCdg7t+QHGmz/YZOVMadoOWa/q9xfSgJoGebN2VRYyN63D115TngGOLWdG/Xvti8gZUOdus7PnVaYt91o3RlmCimIIkFy1szaEggeY6o1inwPWxNbC/bN8PlW0cZV2kNhGUrXPVm6jw+kDEW5YoOeu4+c3M2ORL6ZcXVf4FiuKrH0JZiDZA4mQzmYZf0y9HnM65fhrZKm8hhYhb8YUGxvstObDg1Z1Zpx/RPbJDp7GUESq5Zg5W0OpvhaX5W7ZbzVKmDXz7KD0RR2OcJWIvcGRHxo/1nVt6c1HJPmm9JfVSXl/ptRseuKooXf1+IMqRWOsETJcYGojuUk1ZaIGGe0VpgAq1ptpzb4S8hX46iQFZGwSE0kkSCB5eckpCTW7YMo15SzTkZMiUt/mHldAsg5L+2hOMtSUecslM5DGSJ+xvyTuIXCN0utd9XoDxEmNIM6WOZglnWw2uSVU4kx4DGwCn05Gs860JwTLKzW4+lQw1PnEKBzNWISsklJtSzOT13F5Rhp7VKTJzfbthWpRjcwEklqhDGu5imwem4aV7N6rdM2b0XkUdT+mVZLxQcjhXbSkemJXIG1I8o+XSQUjqbkJzU4CQUOFFPiDdJDUmh1ID+py/CkBpdMIErLjNrYN21IrGctZBOQGx+0F3ggjwLEV+KQ+X0oBwSkHODUwI+iQ7DdvAERyZrxzEnKCBhDxGFeOud3KJerDpY0pBvwZUtMfIq9r4NVl2KFHoYP5cFjeWAOG9R4DKxCX6X6UoEdCrW0ts067c1aF1hTyiouueUrO63ACi4oXQ/7cl6LDi0n+7gyo4Yvve1tSDjKT3Hln+hCVZQIlhPbQ7NReV+Wk6ZlwkJOVJ9pYiG6wUCBFQ402JDY6k9rLesukyT2R3KuoQslHW/lft//w+SW1vC4yGJeKbIUC6j6D8KdHce89KzvcRVg1TpNBIoIt8u8FGGMK625zwfXrfB3AdOStqa0C/dW1t7iDy5mqm5p5cFjeWCqLgZK1NxjYCUQcqAfmYIzEedi3fpncdPAGGvFipHJTZr0hxk5jAUCCeELBxtfyMWtuQ9ZtQtroK9eCGXUzlMUDcZqKU1S2HbxmUOcljkgXd7XRl92yWuODuCSaaZCsvO2ZXfuTsFXbN8hwSLBx7abFUk+WnraOXYWm3Z9WMZ0DJcnUssCy5/Wm1sXsq3VX3yY0jDjHKmMx5ijlU1Wsat/3DSHgWuYkz5uye0UZ/AZlZdpk/nYJc9/xj+VsFEuEa9M7VWdNm7cGHJU2yukao60GdXN89u3b6/HBboryipIMLVr1y4UsysLphKFm0nLQa5PucrkqEMKRyN0YLtMJnXHHXckr1y5skDHHQ5yGw5JceWlhIekcodPoT4rEFlpGEKTGQMKYme/drXOIQbbCPnLrtDivi84PNx11/mr4pFlPSES+QOxc0M6CiAwPkCZsn1n9CxW+55O4Db8gnAoakfWccfv8VZSvVNGm6zqjYR469KGeAMjjm4yg6JhzrkFZF3E4OKhDge/zhDNnz8/IEmLO/ba8n7upV2vYG2Y13O4qdzy8KbaClGW80uNOVulxDoXpfNRDuEptmwZf6ZJfhdeLrdZhIcOHWq+cqxnnf1au3ZtV27HyOSxH/AJXJEVjZMiVWdzTiz+68vx+eo8GWnjiaQ5J0YYt1qYc2T60nKUi3ybcinxu9xYspA8r8KKQRlirPz4RldQTBTzIjfwP0HcdJ3V0pef3bxIU9SPSsTpPJvOwhWdD1Oe4EdlmDNyykN4W7RokZ2VlaUvWBt6Fl9/pRGMYIUr6q1zbX7erb4g7dN5OX1RWnV38jfn35zzdzoIbvKMezfKyjXF8OK2BdfgV0BuXdwydV2Z2u/m55YpGuCehYtP774j6lEHmPf4dtrFfAVAV3IVfX3aKUeTYovrtUbXqlXrQbyTyTsBN6L2u/kIRia+DD27OJBfxj2DJ41N7fMqLH65XM+eqQIYcG+l0Dmw8CzdVtGZmzgydAPGMnt699hNHDrDhWHEG1f+2E0cGQZeN3JsndQ1dhMH58oUX9KoA2ODu1muKyIs4NYjdhOHbtrozE0c3PBRxk0cOVM65++Y2kVw6/B/mTOly7e04RvsysjsrnbudG4TmdI9sm3yCQUFXHOYt3TEcspx2hPrsLGbOMwNHdzEoTIzfqd66yvMJet/uDyL0MS3pW/fvu0grFLGMO+Wb4NN4+vMGYI566yzzO0n8fAl/EpT0rogRX3FDZBbsvz453h/fJqSfojcKRC4BfHhZaUtK5y0pn70id3q6X5JmTIu4JaPj1UO+RT1axHl+LKBm4Q9XWEl49zyXTc+XZx/tzrExZXpLS3PkuW7id1w6vlPfShU4SXTx+OiZJybT2nhpYU5+YvB6FM4f+GdHSs/5Zc2tsyXtoFpQl5FeBa8a9y63XLLLY0khbnh++LG0y83XbFbUEqMDRfmULqlIuNQVqjSlu3nUl4/WnralvdzhaA/n/c9rczq+vzVgKcvcjm8lA6Dgbz4Ge1u6TQzJLBoNloSwGVgfn8yV2KoHpyDZq9M1yga2COPxPmB8CTik2GmYb909pGy6oWwZj4NGQgTuDOPdUib+odnoDoPSKuRltW4/++oA4eyubZnaB+z1BPVV0T80GhTlui6tA8PXyMiBoGIwLSO5T7AYbR0OxfPbgQvarwN49IHIjsi3bzKl5sfGDNmzJtKs4flmrLeuQiyDbFqSN6NyTMNqwnOR5Q/6dprr01DqjmNLyDruQDCdRISXwH+z5EyunOzhr591Y809pYtWx6vXr36WeTTnfSvcReiNuf0/sLAXkRduxP3ttISZsqFYP4GfyfsJMI/IhsfZRyHdBkA/jQOYw9Dq3ILcbok19y6gaRyHfD66vJ4pKoJ+GXO5vlo0l4C7NsKcPFBGcr/N8RrkHAlL1/zwkjq4cOY1xHeinInk26Mi3cYx0m0S3eDSpvzRfwMNX8nJI5PlBZ8XUDYrGbNmm1AoutK+nzitVQwGUlwAji7hbTC+VNIPjvJO8p3xzqDL91kv0HSs27PJ+wYYPWNlw7EdcB9kZv8fxC+yPMG3n0Nvjj9V9JvpMzfE9aAfEdi5xLmH8IXnvFLYktAutE9lE15/g4pZoTKBB/6gvUphC/n/bxImN5hS55rEN6AupyCHUn4bPI/Hv9t2OPx/5F6L8E9G1jdL6q2vKIwPnrKoLfE5FYTX4d8WhGfSN3Pw/8pfvNO+NpAe3DxJXUr4IOfJ9DOneD+YtLNJx+zaoBfh+51t2R7vFr50ST5PV+s71h8QDQ9EKx22faCvDf4KsCOE96a2JOPJqVPu6z3GIRi9j0rj6KWBqZn9oiBbBMbCc8MhHOzrUhedkH+9olsCTEuE7ieqQwTLZjiE5zglS5cMNPBdSy/MpLtITiWLlo4zRfdMQG9iux8e/t4yw5Pj+W7eIxJa0em+yPERwsmFVoFk8L5O7ILt2/Jyt+xNStfbl5OdmE0fxJfZJnJPcJ3JATbZEVgXpcwAMaxDsNXbXftZdkFU30F5BXJzy6I7pyI2sc0p71SpjzsjE+MqHv37skQBalhzoTgibCImIp46ELdqQz05bhvQBQMwp0lLUUXMyLKEJqUeCuCJyBc887Iqz75ZBN0Lvhfi31LxBVXBOUhluBMuTxL8r0ay36q/X/U723CcrBnwQzmUR8dwtP3uj4QDM8iSkcCeyxh8r8DAT0B14ax6Lb664ibi6uvL1+La0PIH6Iuj+FPpN3FJEuYhZhTX9LMxz5FXgN5Vl20akCS2DK12iwc0uYORH9MnGY88qtNwqNuhhcRPY+473AfBvZmpaEe18A4Xqbu2kurR13qUg99luVPPLvm7wqD8OvS4PexfyRiFXYYt9J/zPMO/OeS9/NKQJ69aNc7eH8irBN4k5+PswZ6k/804BsSnkaZRookSkvkYho7+SLAVur2OPHdiF8GfCvCLZZixdQFo+VLMdZePK8ATvWKwhgGAv8Yz/OJOxMYczASmDaUK2beA6t39z4TlUb4d2KV5w7KyOf91+L5ap6X424mn9Ga0LCnmUK+L61bt6467UgHdgL40hcFVgGjr1ufDLze/RM8Zwin+EcA9zeelxJ1H+1Rf9ZEIJPwPxK+kMcrsVfD6NRPLNrg//zKftt4sX9MCyXe3vP9qWn+qO8dLqDbovh57UaVSfMUf7CNJ4HtFeNZQPSxko+ekZ+QtM5KyPk5xaqWzNmnVL/V/ALWnZ8lXv1Z6hrGY3JMPOJdf2J1+ua27SlWWj0rUFgP2J7ExfIzQPvy1zuWLrH1h7a/ToGVvubn6lbDelbSxmSIBJP3ti9R/G+txFYfFAZq51vVN25L5oNmbtXiagbt9NdB47DuxmiN1mMSQjX+ziDQJgKKGw7zGpKpnmwltf7ASqiZZyVs3Jhm1W1kJeVUZxbdm1o/g70ee/gYlgmNqjx7XmfSqjwI1d1qHeGP4RyH9U2YMGEdz+sZ+LP4WvPm0r7O7BJxpKJepLkZm4OVSYOYTcIdZp74g4hshqj9wMz4DwqD4GZAdLpzm8er7BttZz9DHUtnE3ZQZq78uBGeX2M/51mI1hKe/0f6BxQHYeoFAWxOntycElG+mU649uwG4Z9J2gtxT0Cq+Yn0Ufx/xb7o5P8EaUTktQcXhJiFya8nadoQ3o5wzdy38Hwf3lexH+CvRty7wBpaAuFUfW8l7m2kwXtwVa8+5G/2zJDuuhHeQuG0dyXOE469A5g7lZfiZCirNY4hnCaA0QQMfdCMs22Ucy/w+ohmBrjcSr5PUZYYs96ZzB+Al1SqDvsM5a0iXlLkcuCnEf6IgAibDVM+Fpy+j/8ngv6ltgPfHthFhD8tOML89At5VfczcBpT/qkmwPkTYwDXtxI+jqDXgFtK/fQxz2UwnvmUqf1UpT+esF7ADce/mHRPIgUKHzIDqE99yq6D/3beZwfi59KWLUhXvuTk5K3gcTH7aHeB71zqfCxxPYCdjN1KvsKR3oOY+98pcy4wIfynYYcBK8n4ZsoeS9nbCbseyXRFZmbvYLalbisJ3v4N7gh7ZyGSWvSOGQP6ztB1aKMGVK7r0IKqrWf2gAEuE1VsYoMTJKJfynd6NajCibWsbDqBPgqIE5uRCc59Tmx+weU8ngK8Zt1LQLSIlyiiyc/49+nPqUfTc/5FsiVWK3MTfl5CE2ukyabFNYWGgTU7906eP+G0Gc9mychE8ydi6Mdqxrec+iyg3hvxq85IXj7T6fXMbYzAZlqJzc4VAT6TU1/VcFeGqlmjFWtlDAb28GJgpl2xvxo4a+OeRURkDDMBV7oIOVUBsU+ryLfLQFDEFPQByO8gMo9AfAxeYSignKu2MCyj2SL0xCksD+Ii7TK9F72zwpycHJ8+0AjRMntJTp9igmKIkt5XgfzEq66b5BdxRbopZCYdJlywgMX6Ju531Fk3xTcjXNKdCL0+HaTPrcxTeuf9m75JXqZcEWvq2BwYEXVTxooVK36EQJryCa9GOvUNC6UIgx/5CRfxdaUaPas+heCgJe6PglF90ZZTvnn6qjPEXZVdqjjtQfGFZ0kfHLAvtgdncCAYjOogoiw8BEhrJAjKqEn93ElDMuHn01YR+AT8G3kvBbwX+c2EQDeokMVOnqXIIRwqz4bYNcAOIr9/kH416e8j/mn2/0LgRe9US4KLcC1JSLyznfQHfdk6TPk/KS+s+sJywurRvvX4jRSqNBh9FNTgEb/qozLFTOW+ynMi7VqJq3ecRz0C9AlZm8mN+mA+jCyFOLVD7y0fK+N33r/wrnqad4mrvmZgqJ+Y2D9hXt3I5wrCn8XyDuva2aP6RHpnZgWzL+/zBd9fYy8tunXGFX2H9x85j8uq27v1FXilMGqUZ/aAAV6wGZi4enkxZuHA0wkI3sW8FKxnJ3wuj7LFTEn4YpF7eIjLV4P+0XhQpzwRJMB8i4iT3auxbSlr9HeJVxF8XFnfEyhbZJwyiohVUcRh4mFw68vBIvTGgIscnkWI3GdNWpxJSLb5RMqo/v2jmbx6rN3fuVUdItIJ4n8XsNuFT/z6GKWWHf+N1UTi/9s7E3gdi/aPP+c4lmxZju2l7AnJkrKXJC3alSxRWpWSKIn6O6RosUbJ20Z/lEor9WZ9+Ue8CaUjFNmXpOw6Ds//+7vOPXf3eTxEyfJ2z+czz8xcc80111z3PNc1M/fcM/uBRaW4UahGX3jAoygp5efUeyhCOSkhx4NuTzYgtLWrzhJSlii//dDTeyPhSsm5vnum+ChevDj6eZ12EN6NwVxlRLwftQm4pYLGCNgagCWUoTpQesWJuqVN0ZfRjWh3HbO2iAwztDRLLS+4HPxkQQHr3q81MoiCiZY3y8il91LQ1Qam08haKOMlHOrWUqYGgM5JX5nswdWOUNc+tcnkQF1S2hYHlg7a+8xAejoCCpkRncLzMXn+8MMP6ewKFI/anSgZSggmG/hYTrwFsBrQ0ixzBGlrL2ktG1obObzZGczt4GajncXAXQKu2nAaz2QL9MWT8Su4nOpUCI6erwyc3EP4X5n1XawE9L6E1WzITe1W2zQ40uAmmitXLr9PCO45LR26etRX/Lhk5uFosCSDvw46LZiNfwW/MrgZxivlwvR6Y6f25gyeZZybULT+2Km1MF5zbGeiW6XxCB3vIDRgR/AEeP7IKzUxkkqhSpX0h/cUWWYiwNVX1CnptKn8ISrpD2adLzPmkaU8uvojQNvoqkOKD+vImfMPSltl5MVTXP5VMoaW/tQqY9uQlf/f5hhVmyzYjv0xing3/gWe4Rj+4I8iixKkc4CzB1h+0lKskR8LpSRO965QSfGU01sydhgCLc+AIh/P2fOCtmYOBVhazLAcGSec5NdsDMX1K/5F8mdS55UQeUOESOcl0Mhb8ex4jdCdK0AkK3Q1C6iAUehFWgb5NmDNUVDp0JxMeiR5/Sl7PvFlKPh/Ei8oeiKkjRbCVRxFOgOFvxF83bg8Hnzd+vyC8sDXTFSGOYJ8/FkY8OfB+ZByevdUAF8HlAIo+nnQWQoPb8PP69DrS95olceJhyHkqX16fzcPozcdnMHA9L5GMqqG1/9KdReU/BTH5cGbTAhluG0XIXG97xtO+dXEhVsV2d4jHLzJTXxj1PNTl9u5J8Xem1lgDwzR3ZSXcaqI52iwjK32xLXt/GPeDfaE9ih4+wjQueA/RnwYPKvObsBakF6HgVhMuj5pkxWhnOLGMzgrqefh1q1bzyc+n/jlyO5G2lefdDXoJXmDmmQtIfK+T7OsAoobpUjE7xOkrQ8IDp0C8KS2Kn4KtEwuhIUA6f3iPMLS8Cbj/fUNKVwJlHJhWh3uugOnLdfOlMKQdWdX2BjwyrKhI53RyfE8XQY2Mjspw9AdpgR44Cjwyml8QMJ3UAdX/iKnfPxewz8KxsuxCE0ZHkeXMMN4HZgvnLheRki8ySAd0om2R0PtFb3fLXNIgid2pn0fBIscQpkog1EU30kKlFCzJjfrGJOQnr6MdOSbt1LSuNDypoZjpiXXHzutYZ2xk6rz4KHDK+9DOJSFyRElsQmZpsyfP99G9dQ1AkX6bxUlfg1BmpQNyupa/HjBCQeSp5mcZjr/UXnFPZdC/maU3SbCi8ibi9duvVa8X5khHBT4TcC0o06bHXYzmjc4WQOZKUihyZmBhU9rB6P/q8HVBo5L8F2xdwOEBHwmdCQfOfuGTWWo40t4bAkPVYEvpMxl4K4VErcnX0swh7R22qVAqw9pNsD9czDpjvh6pPOQvwnFvxEaN5CuRHoV8SbEV+DlusLvBkWAP0/wpuLw8w1p0VRbtYzZEl8NuhXJ+5fg0Poc/oYozo5C/ReeQA4ycip/Cz4JxV8UvGnEKwDegr9V+fo+TG3Ec9N6jsaAtELRCLy13AadRDuGU1cP/OXAF/A8mxJqx+NyYMaX0rjB8DlXEcp2IFjOkmAtyr9OWoMEtXUSfF4MjQ20ZTf4nbdt26adsXr/14v6dqo88FfwnyhOuUfBX+TF+1B+ueLkTyWwNhOejn8SrwMSChJ+xDJombdSMu6zwyqyVznhUuAsE+QYyLxtUINXJsrohS6UQCiBE1kCTmkfhEc34o3oPYFw6o6d2pQbficQPuFuZrZR6kEIBMA+LcGC9WojSADPjwbhwTgImWj5BQKRIP0A2KLBPBRgJlrBvEA5+y7JpQ+zzAHfgHnlrb549cS00VWXKQziBOMgZeLRFQrWE4wrPzbtyrgw2M6D4caDx/Alcr6MY/PilXf1xwuD+MF4sI4gnJldJWZcu7RpRfRI1yS9vn379trJGgHX+rXimb4BEyCmbwh0vJ0vyOPNSFh/KIETRQL6w+ukBvGjdztsqdamC1tilMLRRo0U/swpzFAr83I7X/qmzQyjm37WsuHMytzM/E3gZubfaZPeG/kHBYu2NnhQv43yWdrKohMU9E7KwYM4Uqh8m+aXh5ZuJHZ8Jsae+uDxYqdHiC70M51C4Z0+ccAsW/JwvIgGaVteFFxycrIJtlV8sjRqp2QIDm9qk23KQGkmqX7BHS0vbspTfAVPqnB09Bwcj5RLwqutdiqHkw9p/+Zo0ZRM8IqaU334THwLx5Ob0VJ9zHjSaUOi4h6vxr+jo1B0nFzEs8oA1vPz20FZO+UD+OE8a8N15VWHnn1Mm032Hs8WD/aJYFuCcfFKG+W1jNwJ0tfSf3YzA9MGrgEsFU8UDn6/rgmqfAPt0OoOfazh9OlZbPlQDJ1gLjRgx+iBSNngDlAOqv6P5h0O64eifTjlQ5yDS0DbirPn2daPPQoL90X3n599SaT9dF6A20j1IM/64NTCnFACx1YCGKts+DTVerLqCX+6eGxFd2S1aWRQrFixLOvXr49ylE+EQ1QjpBMmT57szo47MoLHAftgxkus/NG8w2nGoWgfTvkQJ44EGIzw0KLZ8qfl2Ze+f+SsFo2+Yhlx8d7qSdoI4HakxSkYgkIJHH8JoE+T8Jrt6XQXm5mhJ2w2d/y5++/j4Pdmib+Xf8JJhCUBveM46fg+VoI8KeQjI+a5zO8KfoO7/DAMJXCCSsDvwycofyc9Wybgm266qRgfHDZkp0x9vhm54P77768PrCG+nFqo6a83qtCM0n8oGl0orTyHp1Brxg6mtOKe0lQys5OxCSgrtiFlesHu0bLdWhRMCNKBbjYR43uS84YOHfp/Q4YMsW3KwQrAz8b68/vgFBdcvMgrPmzYsLacO/eu4q4etZWt3sJxdSo7k3PloXs66/LjCW0rrcqKP+UrnqkQCcGDecIN4AXbpu8EVN7J3XihrNbQMz0D1RGvTuEG80TLpRXKOZyMlADs7gu2Wzz8zo4/v+xfEokmuJO6XfiXVBOf6AHPLz7aUYMes/oOeO4HNuGY8XJg1SEklMBhSuALTmIX6owZM7ry1X504cKF0TFjxkQ///zzqJYTP/vsszHKd3iKyx3GHyADEaUZUNCHLmcK+wCl7/+R4tTp5y1fvvz8FStWpMJ/LlWMUWk/evToMopjpHJjYNa9/vrr5ZSW48WtGT7KtMdr+2tcF6fOTDu9uKOpvGg7wwm+GUZHTIZF8Xh0gnIJxl3Z2NAZSQd3ZVwdDi5D7OIOx6UdruRDXFt9zfhZftDgKh6bdkSOUhhPJn+StN8ffofO4eL9DpmTLzu2P5x8LYjL8d/2ecaVxt8J6Do0YTm8PgpshVLexHE2OuGgGb6GkweKsQr+PNI2spei5DsSfdSXyE4tfY+S1UuryOkcX1NXETmuxajdrVu3UpbwZgJ+fNhHFYdMXPbbzOmpcRUid2bMaITz9NNPl2V2pW8pIvCWQ0ZDcTk+3DztNg7nhM/sK1euPCcDGinAbGtx79699UGlZjWnoPwXc0RNCdIVu3TpcqaHF8FIF/r++++rKA3OqZ4hysHMs8EjjzxidcYoWvuzQKts4cKFz2bGWoFy3wwYMMB9pBm55JJLyrVo0aIBO7rsOCTK+0btuuuuq4GvTXV5vDrL8v2QxdW24cOHW9sokwNe8grn6quvrkvajA3JEnwAWtsZItLGT7NmzcrwPOqzU8zqFJzy7ruScjyLc4E5V4RZ9rfccXUHgAze3KzrpSkl9c2VQywzbtKpkf7vnZaRPmBw4dD+THjCKh92ktng7s807kjKHoP6fFmzpbs4/xk/Hcun/tvysfAw/feTgK+8TsSmawOCOjLuO/iTj6BE+7Zs2fI9DlNd6nhmFvNO3bp1r+NDQBmj1CVLltTt16/fDj4KfIsZW5EqVapU5jqCsxYvXtwOI3ZBhQoVanBuWSJHyLxXqlSpfGeddVbDBQsWRJ555pkrHnrooQmaTbDVVx+XRh8oW3h6x40/6CPJjpGXPn6kV+kiPf6na/XCCSMsP8LxPC/wceFi8u/njDJ9vPg6Bqo0inwTHxS+e8011wx49NFHP+Nk8dfIqzJz5sxhmzdvPrN27drDMCZZatWq9Rz42Ro0aDCVOssz0xTN+zp37jz0nXfeuZwPENtS7iLa1hR63T/99NNcZcqUKUX7fxk0aFDtTp06LZERq1Spki7E29e/f/9bzzzzzJepP/Ldd9/tgN4GtgLb7sfBgwcPqFmz5gPJycmRK6+8cgdGtUn37t1n0+7CnGr+EXnnIhcdNDoTOZ5PvaOo81nCd3fv3l2ZDztHEj/r7LPPrsCp2CM/+OCDBGR39qxZs7ZjxEch5w7UFYG3T3hul+v5DRw4sA+H3vagTRFmzjs4vaBB165dF9CeoRjFUvB9Hh+RRqDzJoasBdt8X+Lk7QrIZQQ8JJ133nkvDKjUJHvnSMruWwrnHJC6Y48+KpVxi5SOJr18c/VSv/SMRG6/84t5SSNqZhzzo7w/4KQwTU5sP55M/GN46U/cTuAgvI32VGX5tqOUZ7yt4werU88Hb1vjhROI22ALkG3RdniktTQrb5csYvhNmcNPBJ/erl27Qsj3nxiVm5mtbvX+I8a7U+wq4/BVp8fzfqLa5u1vI3dxdxQU+fu1NV7bx1UO+nsZEOWlb39IfS1Ir5cxE1z5cqLteISebW13dAX3PhY2/jJKZGwpR6ZqT4TQ2s/z15mI79Ln9nXs2LE5uNtc20SP/3B2+tNueOvNs1hNvk68sIsdA+21+lVPkC+SVocnB+G4fPtsQXDBXDvEsy6YlBwCW+Ej4gO0TM9NPApX5YXvPgEQLt4+HWBAZs+Tttq2fm2PP5I+JNqhO0klQAexdzEoj9z8cVaPHDlSMy1zffv2bT1p0iRQom3w5/OH2I5C7q1MjNW3nHKgL+Dvw+ek8w9CuRKN3ozR6f7hhx9GWaKbQroxynUJs4J3VI5Ol+RezH++etPgmyf8JxoZ8v7dKbOWRNdu3ZliOMxIFFLfYAylfflO+PSECROiGKSGZGUdPXp0Gnc6VYFeJWYy+mJf7+vqvPnmmxsxHjpQ8x+CMVPbzDLjXPGxaNGiaRjpbwSH3m209zPF4b0pxiu6a9eu/uA1pc07nn322V7Kg74tOTZp0iQXRmHPqlWrPganEcbrHWSwSThPPvlkHe6v0kGgT3j1LMNQpyoPQzgMwwo42hp/K3cK6WQAzfpmUX8zxeGppmZzisNXibFjx0YxRu+Dfyl8pU6dOlXldZfSQ/wxpRR0+V6Z9957LwqsN3lVGCQs4p2enYbALGvi7NmzfwV+PYqpj5aGIZ1M2uQD72qnvRcc5y2pDpuzOKXJuH+vFA+RlLGlOn3yRXT9zp2XKan3ggr/hDMjofLM2Nc2btxY93/pFAZz7H7thfKZpoSUUAY07q9PR7lOMTIo6MVsvKRgGITfZvQC4BwMhXwXH5k2Egz5xa0HnGL4L9u2bWuzcOSkOjPVq/LxHDSd8hV9Px4P18EYDOWnvjVt2rSxJXDBvTrj0ohH1+F7NDPxCm2bTTKAq4ScvnD1EhpeLD3wn8f3EJ4r+3tlAvkWjaGZiZ9YXC8tA3SAvNzzjS3jniftuZ/nqVWNg/IaWzZMH74E4v5BDr/4scFk9CKFGEU563DOCGeA2QhKtTNzqM1Smy6eK8CsIBej9tVc5FZTecxefv7qq696V69e3Y7eQQHnYFbSt379+iPJzonhaIOybc2MYANKuT+zgutUjllBtGfDhqYVapUo9PCCtZsbL08q+3yzsoX+t/ipuVKE0/OWW9JT2rWLsBT3PspWM4L8HO1SmXPKzEhhXHTUzHau9/6a+LmMLKWsde/PbGaMK1EKr0ycOHGdlujgcyuGsBkzq9XMkvZBZ4DqAK72WluZpeSgnlnkdVEe/L5CO21JjjrsD8hFjFU4RmgH7dA9Qdsvvvjib6+//vrZwufgzwZczzEf/uyPz3vDG8EzY0JeTfJ6Uma0cJ2jbhs9Ki3eHRyDkwXcVJZdW/HubifGqBE0pgAbLhzkeityyUObz9ixY0eEQUba+PHj6zBzWMlp6bYkyhE3UZZHO3P/1tsUeRdDex3PJxkaks+qq6666qUvv/xyrd5vLv+mksmgQnK+CckbmHDdMy73GeULdqlSIE9qsVy59GwTMSp+nyD9h52ME21dDe8a+IyCUC0Rgy8d67RLcdoWnE0IFHR+nhQefp8MEuXvpc3lmWU8jBFfDaw06ZugKTca2Ar6RAUNAICvQZn/RNmFhJeSX1dIVDKa576UZ5zAf2APsrS6NLonb78MDM/0LMqn0Xeup8hC8MeJORTpVfTH2dD8UfXQvjLEP8aoVqdv/QqKzt0rQp8awPOtCb9NoTGe56Jjl3T23g76TjPolCdvHv49KW+1D1hj0k3wi3mGrwLTQb26i0z9/VLK6u6uxcL3Zh1R8q8Hpv/pAgZJb4hH6r8B2Gn8l+9aunTpy/wn9DGx1QF+EdjoSP5X4OUH/XuVoexeZKRzA+1sP9JvUb/NfMQDZXSpp44He5OZ0XKuubmC+Ifg7IXvC8jbxn9wPjTqQG4raemAjbqIEt3SCtxy1DmCAdxaykRZlv8H8moHnvrJa5TVf7kM6Tyk9RrgAsqM5XnO92Sg61VSod8Z2aQCa6l2A5tE+hPw9ez8PkM8dEcgAV8pHUGZ44rKw89UP7OFNG5oLUjnGsTM5wWW7CqyPGazHRATUMzB0W4C+NZmlud0GOZ+FK8ZATqgbqNNd8QTevWyKPXt+WTN5n1nnJItMmzukpcFTOH0BQJTmBi7OSiNXzBSd6FQcmJM+qIoLuDMtxuhPUv4hLouwf/eC7ysHNypP2EEfnSy9H7CnEpjoPyTsiljTnAd5hk03Cg6LXloSUjXephQypUrlxuDsQUFu11wjQIhYDjwmI0/5TrB5ZiZbmI2t5WZSw6WBpMwjmsEx2AYH4pTVqeo21IRdeirfaOFEkik/igDAXsPxh86G7RUJIJRzg6fe8HRnVQaYERQrI8zM30RY3o5zp4NtBKZBduzwLjlA1fnLhp9yYclVL2/jDz11FP7UzkVQPGLyhT9qlD2pHWRqrkfaZqc54Z6ZYv0FHxaxsDgqCgBlKaea2H8Q6LNLOxJhSgnPcPMnQ+4FOyDDz6YS8ZDXstgwNQ/fIey0kBRB+zqZPpdUoKEnwqBMEnKDKWdjAx2A9Jz1dLZr+BJKd4Kjp7NFsK32Y2bj+XcPcD9waeW/Mh3bhzd6VESK8B/Crq3K4N4X4xWWcUJLyJtsqPu26E1mTJSyGd7y+E683A3ee+icEtwLqD40S3ADSm3ARIDUch3yhgpJD0EuA6ibUV9z6kOcNsB+4BoMQ2+BMPZMh04fciTfBfg7ydtAzbiNmCCl3QGEiQjOt1eF2TqMsfJ0C8hPvDnk2X9kjydKXgfadHqilHqhy7Qqfkyqqpf95fpHXBZlvd0YHEfdIJ7J3wv/bsleXq+Q/EvUY/Op7wD3HmAdeFoKbzoRLR0C/6n5GcDT22cIDjyrEBZDRRlkPeA/6GHq+epPr6L/8SPyKodZe4l/TX49iyIh+5PSMAUyJ8of8yL8mdKZxnMV1a8d4lyJcJ61qkL4bNhQCpzrMszYgxc3UFkStFLk+ScStyGDRvSyfaVJp1wP2mfbkpP+3+zDvnJu23OKF66WaEc3w3fuNX+nCnci+NpDM1EdmKgZmBgeqN3f2K2N5xOWgXfhndNml2YEyuBeBaWEI0vjF2C8uj0VreMKrwYrvhzcQ/u8wf+PmCWLlKkiIW8N1oFL+UxXA1UFx98V4eGGfBq1arpVPJ6gM1Ascx4FcalCAp6D3z+wuj0KpXhPZgskS0VUUd23tcVFJylzTOoz8piJHUNyD4UqbUBuC/XuXPnqi16j7K/UaNGexjN6/DU6vrwnPeA5ZglS9noT6/rX4xvZLFPbeVOJWVphp2VJVUbTGAQ7Mgm7i2RrH89PXeOyWcUL9a9WsFTl51ZMJ/km3Dh0f0IUzyZwYHv5rD4CIZaJ9D/7MEJbHnP/jsoujq08TVmJ8N4lkNpx6sYb2ujIfLDrOBT6CyHxhBml7qT6mHiM4A/jk8BZRb+IeKrCL8mbzTxb5nJbidsTt/SeyGN1vMzEKnCIGcncf+/y3sbk6Nmw8A34lMo9xLhEHx9vNxW15fom1oN2JYBtkHQB8zUnqfebsDSiffA9wRHvFSBlg5ylhLuTHwYj7cTXoZLqwQdyOvJbGIsPN4NqIXgog/8TfDvZ/YyH6OSiDFKw+CcSrYO+m1OHW9QphnpZsonHEOZRcz6XiatI49saRF4K+A/g693fjph/n1gZgxVlrqaiZZokncjMBnsjgQvgj+IvG6EMjbqv1t4ViYv4jsoKyMjJ5kMox0jiMvvodyzvLttR9wGuTyHNtBdC05P6PVCjtsxlK1pg2brCwXD/w/xZeA2AG8Z8VTyR7J6pCtmqkBLBxe/Bt4w4nKOl4xU+HtEEvBHcUdU6jgho5wTUBIFUCw+3yybjUW5dqGDLMSwLWD33eUYMSmQoSiXAnQ4fzSMos5NZ7KRG7OULPyhNfI3RYAyz0GHzKOmzcydO+k5lOWFY6Z27Xj+eddcUzxXbcA7RubIu2jUmKn3TGnV6Pk7R8xLajltmt6TaEnpXxiRGzV6pb5VzDbS6MB52LwwRfSoV7OnfERV1z6MyR52Uk7nHdnNzMRG8T5JL+WND3jWdRDC1exF18TrDy8a2cGxGY+Xpz+V/YmhJUOSUKJEiaXffvvtXGZLM9j8MIfZYS2WV9XevOeee+7b8DSM928bGIHOQ+k1xKDYkmG9evXGsKHlJWS3CBmkoYALsoRXEvgaaL/MvVR3VKxYsfamTZvS9J4N3ChKuwCK2Ow4vOWCN1M2OimFwUFelET+qlWrTqLunRjSuSwzfvLGG29cBK6Mzs08owKUMeNKvTQzIR/Pw54V5dIxarPAb4d8R2lX4+QyZRJHvBXZ98ve/R/fUKxg23ol89mofRrvRy88ugYM9uzamIK81/uC+gfS396G14/g0Qy2EFCwpnjoP6nAdTWJ3cNEWjOZzUEcTxHrgkK989T70iLgfyYczy0krKw4ZXPgiyquUTyDIt3OfCo8LAOUj7xfka82F2h3k1PwQndOtw1YXwKQCL4paELAGXDFybO+A0zvl/eoMHUU4hlsYSaZU8aQPJ3UnqY8eNdqhfriL0R/AHcvS2e6hkQ7re5BkWtpTDOtpcIHphUNo4ussrEpYi+h6ihKHTsot1EzVQz+VmAbWAD4B31PBsYGSYTeGNFolSS9GO+c2pem3YrUsUkrIKqDgdUm+uVPmuGSr/9Lqgpo1qq71ahXKwoR+qavP8h2stIyow2aKKeLOreoLAO9ovRzW16grmTgZ/I83wBHz0kDPZ3+n5P2GI7KgKNZmMmNuGZ7Nggk7IVPQVZrgY/DiD0gdHxoxBDCH3HBB/lHyh+TMnR+vQNI+2APAAAJAklEQVTTck06S1Xj6PSmIPTino4wj47UlGXEbuSVRfm+TYf+VIyhhD+mU65yTLK0OAtc+1PxfmgnHU+bEHYon6XHZeBOVnzIZZftf45wTNNzc+TPfUpX6pgj+I49aQMvbVorUoR4yzPOiTZsmLGEV6NGjSnMRqbQ0T8UHkZV9yFp7XyN0uw23MQfZwIwde4IOya7MuN5mT+UGUz4HA98u3DZlq7bXz/y4ssJrS1NmzZdAX17Z+XladOH3l3o5bBdxAeNKDssmzETHY7SK4axuAnDWZFdfXnFC/j1S5cu/QTLladhPwZBr4fKFyxY8GXysoKve6Ny8R7kLcGZ3T5QsmTJU8AvgZFpB61y7JbMhoy3IusPSJssr7jiijnQN2PE0k8UA/kB9LR0oyWh81na7MXs6gyWVWfjR4o2bVZblijeqlWrNNFD/tvatm0bYcbzEMb3BXjRn1/PPdJ8+nT7kz++elOtFypk/b5c8unvKq+ht5Sr+FF0mkWaAqKPdaZNM6EtWdlzUT3wpBnFPp5rVZLdaedOvKyEZD0NWB/6rF78R7UrjcGIFNVavJT7zwQVFZcjras+fslIRbIgh58U5/l0IdCOv7pKo/iq0fezYrzs+0VmKhsFZ9lTStiMK7S0qiCwnOImN0LdB2V93YMZHJi/MkCbZfx0Zb3LsyU9EQKcRJ+y5w1/xQFlZcX+Z/qeDOEQZhX2PIQrB77ef5lBYEVEcjE4feZHyqvf50N+Gzp06JCHNhXVf5r2asBpciffeFAh8FfDZ23F5USbtGb066GdTN86hXdOv2C4knkeycxc18GXjG954buLQRkMyFjnFN8eHek/a7/k4Hgk9GWCjtAN106Gkl8qz6OFyjvHc7mA+F6XJlR7Hf+wn7hOeZTbSiCj9QD8rWN5dgTPcDF9xN7ZCSd0RyYBPcAT3rnOQKhOcocYVgfG2cnShBMByfuOfP2BHhRAuApJD1eoDoMSkMK416UZXRoNj+5eL+yt/HGczpya2iuaO0e2zkp7eW60BtmEVYAbe3mq9xnF5TxcKer7AunpxMsqLUfdwTbNAySjLLoyqFr7F02tscs7mtYWD8/9CYW3BpQrhBd0msWQNxfYxUG4V16ViZ7RdPnAVhK/zKVjwg5KS5YYpVcVD/DSyUurzi+JX6m0c+KFNvdSWuXB0dKXPQuvrTLaTj7cfIQyS7lwX6RRn+KtC+TtVKdkkdtU9kU2eFA2qDgE/tMOHgpAxP9voBRvQ7kuQYEni7i2nGM07PmjlKYBmk47MjQ0CeJmTBTipZz0Hucn6D7C8u49KPEBKMWpKL4l8C/jo40alxCqjy4h725mX/8CtpD0deA1I6sBcW1KOIU6deFlXvwTwJ/2FKOKq7xmRY53zWbyWwb3VpE3iDLDoNse2B4PnpvQKeysxPMzGHP/l3zw4lYwTqX805T/CJy+eLcE9jrwfsClsMvj88FPD8Lc1BN8NnbSO5setoA7EWPyNu+E+mC4uoE7AyOzB7hWGGz1gVCXRhpfzKzeoL88iBw4ODlRy3UtyF4t+QKbhpEZD62ngT8GfJLKwtNLpJ/DSPxMGb1L3MmSnj49yE6ZIcA0ALwU1BHCx2lFwL2r08DJ+GDwlgiv+fR+kwHna/SDu6DxGLip4FxGn9BysPgsiHdOM2WjRd4K4l3gYz51qr7TSe/G6zZk/Vd1J5kN0F3hMDx8CejPc1I5KT8ePv0iY4SjTkzaPwpKcbyUouA2UhOuvNKeQnGjVWu/R0MIKmcjJw9fsCzNmyfYNQfjvO38DkeCC+KBSzKjXvEZk291efjaWaW0KYp4uAG6ri3Gn6PptcPn14Nbm0VP+fDjy0XfiKktri7lefxae5V2PGlmK3rAEj181e3TcnkKKeOUtM+LyuElC6uTuMlCobzHi+GofICeyqgNwnfyib54xTwrP3pAi2vbVzptdbWiBV9RmTvPOceMiOJH08GDbmP+QTRZas02ZcqUpSiqe4HLsEaYkRnPintOCsi+M3LtcRkuRFndQXwXdM7WuxGUmQYZZfGlMDiXMoP5RrgoSSnEuSjKixidj4WPxwFfhf83vhHlbDQPvbbkaZOBjG2Eeq1/ke4DvVWCEf+E4FXFoXc7gQZAdcjvQJ6MkNxr1DdaEcLvCR5Fae9RGvoDMA5fo7CzEm+OIR9BeAm+D0aKiw6jukKkH2E3/OUUET+qU7Mm3bo8XnFniJhxmdwoox2Zo8i/kXLjmKHeIjzc9/DwREb0t77FUrve111GXn7VSVkNqqYJz3tHxUXYUb3/GgltyVmfgOj26BbwXINkWeI/CE76SspnRQbJ1K+4G/j2JnuOcIBr8NBPcdqvuh/TrFQzO8pdRFrG/GJwZo8aNWoLz2w5sKfx5sh7Fr9ACXA0mNNApQZ0ZxA/Fa8dqC31jlPPjTz7DwIP3d9ZAnQWfxR8osvhr+b1UPQPlid4vLx4sCOV75HSCOK7OKF2oZ2uuglNYR8pH0eIb/3JGQevbLw+Jlis96ty/DsA9NwMyYEiMXUYPB5MGSxfmkH3C3sDoUA6E704+IYapB+Me3TitTNYheXHtk0IwfoOl24cPL+ug+UdDK6C8fKCfPnEY3CDOLE0gnnB8jFxX26x5WPw4vIYixOmDy0BX9iHRgtzQwkcXwlIUbqRqowX8dhZ0FFjUIrKmy34I2OnvPTe649UJGXG+xpdUGmzedFjGduMsN6RBejahZMORrkkyiXwXVRU359pxyEwO6FD5Zlp6L2Vz6fw8eJReP6JG6SNrngXbYWqM6Zdemen2bvNbJXHDNzeozk81UkbRNuf/RI3Hh1tR9fxKnisC5Zh1iRaakOmSx+DZcB38rMLPpXnycx4low8vqztyo8n44PRYVatEzLcLDoot4h4xVt7XXnRD8ghE9+ixSqG3qnZM3DPXWUU98paP1A8dKEEQgn8DSQgwyX/N2hq2MRQAqEEQgmEEgglEEoglEAogVACoQRCCYQSCCUQSiCUQCiBUAKhBEIJhBIIJRBKIJRAKIFQAqEEQgmEEgglEEoglEAogVACoQRCCYQSCCUQSiCUQCiBUAKhBP4yCfw/NmOzmdp3tKwAAAAASUVORK5CYII=)"
   ]
  },
  {
   "cell_type": "markdown",
   "metadata": {
    "id": "cCvLoVX0dacR"
   },
   "source": [
    "*The tf-idf equation gives a greater weight to rare words and words that are frequent in a specific document.*\n",
    "\n",
    "---"
   ]
  },
  {
   "cell_type": "markdown",
   "metadata": {
    "id": "DGMrxFcOz_ct"
   },
   "source": [
    "The code below initializes a tf-idf vectorizer using a custom tokenizer that tokenizes the words, removes stop words, and uses the porter stemmer. The code then fits the vectorizer to the entire corpus and then transforms each individual document to a tf-idf vector."
   ]
  },
  {
   "cell_type": "code",
   "execution_count": null,
   "metadata": {
    "id": "ZqsKz_DRx0mX"
   },
   "outputs": [],
   "source": [
    "from sklearn.feature_extraction.text import TfidfVectorizer\n",
    "\n",
    "def tokenizer(text):\n",
    "    stop_words = set(stopwords.words(\"english\"))\n",
    "    tokens = nltk.word_tokenize(text)\n",
    "    stemmer = PorterStemmer()\n",
    "    stemmed_tokens = [stemmer.stem(token) for token in tokens if token.lower() not in stop_words]\n",
    "    return stemmed_tokens\n",
    "\n",
    "documents = [\n",
    "    text_1,\n",
    "    text_2,\n",
    "    text_3\n",
    "]\n",
    "\n",
    "tfidf_vectorizer = TfidfVectorizer(tokenizer=tokenizer)\n",
    "\n",
    "tfidf_vectorizer.fit(documents)\n",
    "\n",
    "t1 = tfidf_vectorizer.transform([documents[0]])\n",
    "t2 = tfidf_vectorizer.transform([documents[1]])\n",
    "t3 = tfidf_vectorizer.transform([documents[2]])\n",
    "\n",
    "feature_names = tfidf_vectorizer.get_feature_names_out()"
   ]
  },
  {
   "cell_type": "markdown",
   "metadata": {
    "id": "kwLEx9500Jjc"
   },
   "source": [
    "The code below prints the tf-idf table."
   ]
  },
  {
   "cell_type": "code",
   "execution_count": null,
   "metadata": {
    "colab": {
     "base_uri": "https://localhost:8080/"
    },
    "id": "mFQgKH2Fnc69",
    "outputId": "36b685d1-6f14-4127-eb49-517d658bdff2"
   },
   "outputs": [
    {
     "name": "stdout",
     "output_type": "stream",
     "text": [
      "Document-Word Matrix\n",
      "+---------------+----------------------+----------------------+----------------------+\n",
      "|     Terms     |          t1          |          t2          |          t3          |\n",
      "+---------------+----------------------+----------------------+----------------------+\n",
      "|      year     | 0.035382792235089076 | 0.13360547718093338  | 0.056160214573572474 |\n",
      "|     wrestl    | 0.017691396117544538 | 0.026721095436186674 | 0.028080107286786237 |\n",
      "|     wrangl    |          0           | 0.08016328630856003  | 0.08424032186035871  |\n",
      "|     would     | 0.15922256505790083  | 0.13360547718093338  |  0.1404005364339312  |\n",
      "|      work     |  0.0599082749131794  | 0.13360547718093338  | 0.056160214573572474 |\n",
      "|     within    | 0.07076558447017815  | 0.13360547718093338  | 0.056160214573572474 |\n",
      "|      wipe     |  0.0884569805877227  |  0.4008164315428001  | 0.42120160930179357  |\n",
      "|      wide     |  0.0884569805877227  |  0.4008164315428001  | 0.42120160930179357  |\n",
      "|      well     |  0.5838160718789698  |          0           |          0           |\n",
      "|      week     |  0.0299541374565897  | 0.026721095436186674 | 0.028080107286786237 |\n",
      "|    warrant    |  0.3538279223508908  | 0.06881655109890135  | 0.036158250745717255 |\n",
      "|      want     | 0.017691396117544538 |          0           |          0           |\n",
      "|      urg      |  0.0299541374565897  |          0           |          0           |\n",
      "|     unpaid    |  0.0299541374565897  |          0           |          0           |\n",
      "|  uncertainti  | 0.017691396117544538 | 0.026721095436186674 | 0.028080107286786237 |\n",
      "|      two      |          0           | 0.026721095436186674 | 0.028080107286786237 |\n",
      "|     tunnel    | 0.017691396117544538 | 0.026721095436186674 | 0.028080107286786237 |\n",
      "|    tuesday    | 0.017691396117544538 | 0.04524274739925269  | 0.028080107286786237 |\n",
      "|     trade     | 0.017691396117544538 | 0.026721095436186674 | 0.028080107286786237 |\n",
      "|      told     |  0.0299541374565897  |          0           |          0           |\n",
      "|      time     | 0.017691396117544538 |          0           |          0           |\n",
      "|     throw     | 0.017691396117544538 |          0           |          0           |\n",
      "|      term     | 0.022780893617205138 |          0           | 0.028080107286786237 |\n",
      "|      ten      |  0.0299541374565897  |          0           |          0           |\n",
      "|     taken     | 0.017691396117544538 | 0.04524274739925269  | 0.036158250745717255 |\n",
      "|      take     |  0.0299541374565897  | 0.026721095436186674 | 0.028080107286786237 |\n",
      "|     syndic    |          0           | 0.026721095436186674 | 0.056160214573572474 |\n",
      "|      swap     | 0.017691396117544538 | 0.026721095436186674 | 0.036158250745717255 |\n",
      "|    sustain    | 0.017691396117544538 |          0           |          0           |\n",
      "|    suspend    | 0.017691396117544538 | 0.05344219087237335  | 0.028080107286786237 |\n",
      "|    success    |          0           | 0.034408275549450675 | 0.028080107286786237 |\n",
      "|   substanti   |          0           | 0.026721095436186674 | 0.028080107286786237 |\n",
      "|    subscrib   |  0.0599082749131794  | 0.026721095436186674 | 0.028080107286786237 |\n",
      "|     submit    | 0.017691396117544538 | 0.026721095436186674 | 0.036158250745717255 |\n",
      "|     strong    | 0.017691396117544538 | 0.04524274739925269  | 0.08424032186035871  |\n",
      "|     still     | 0.15922256505790083  | 0.026721095436186674 | 0.028080107286786237 |\n",
      "|   statement   |  0.0299541374565897  |          0           | 0.036158250745717255 |\n",
      "|    stabilis   | 0.035382792235089076 |          0           |          0           |\n",
      "|     stabil    | 0.035382792235089076 | 0.034408275549450675 | 0.036158250745717255 |\n",
      "|     spring    |  0.0299541374565897  |          0           |          0           |\n",
      "|      six      |          0           | 0.08016328630856003  | 0.028080107286786237 |\n",
      "|    simultan   |  0.0299541374565897  | 0.026721095436186674 | 0.028080107286786237 |\n",
      "|   sharehold   | 0.035382792235089076 | 0.034408275549450675 | 0.028080107286786237 |\n",
      "|     share     | 0.017691396117544538 | 0.034408275549450675 | 0.028080107286786237 |\n",
      "|     seven     | 0.017691396117544538 |          0           |          0           |\n",
      "|      seen     | 0.017691396117544538 |          0           |          0           |\n",
      "|      see      |  0.0299541374565897  | 0.026721095436186674 | 0.056160214573572474 |\n",
      "|     secur     | 0.017691396117544538 |          0           |          0           |\n",
      "|     secret    |          0           | 0.026721095436186674 | 0.028080107286786237 |\n",
      "|    scenario   |  0.0599082749131794  |          0           |          0           |\n",
      "|      said     | 0.017691396117544538 | 0.026721095436186674 | 0.028080107286786237 |\n",
      "|      run      |  0.0299541374565897  |          0           | 0.11232042914714495  |\n",
      "|      rout     | 0.05307418835263361  |          0           |          0           |\n",
      "|      roll     |  0.0299541374565897  |          0           |          0           |\n",
      "|     revenu    | 0.035382792235089076 |          0           |          0           |\n",
      "|     return    | 0.017691396117544538 | 0.026721095436186674 | 0.028080107286786237 |\n",
      "|     resum     |  0.0299541374565897  | 0.05344219087237335  | 0.056160214573572474 |\n",
      "|   restructur  |  0.0299541374565897  | 0.026721095436186674 | 0.028080107286786237 |\n",
      "|     report    |  0.0299541374565897  | 0.026721095436186674 |  0.1404005364339312  |\n",
      "|     reject    |  0.0299541374565897  |          0           |          0           |\n",
      "|     reduc     | 0.017691396117544538 | 0.13360547718093338  | 0.036158250745717255 |\n",
      "|      reap     |          0           | 0.026721095436186674 | 0.16848064372071742  |\n",
      "|     provid    | 0.12383977282281176  | 0.05344219087237335  | 0.028080107286786237 |\n",
      "|    prospect   |  0.0299541374565897  | 0.026721095436186674 | 0.056160214573572474 |\n",
      "|     profit    |  0.0299541374565897  | 0.13360547718093338  | 0.028080107286786237 |\n",
      "|    probabl    |  0.0599082749131794  | 0.034408275549450675 | 0.036158250745717255 |\n",
      "|     pretti    |  0.0884569805877227  |          0           |          0           |\n",
      "|     pound     |  0.0299541374565897  | 0.26721095436186676  | 0.036158250745717255 |\n",
      "|     posit     | 0.017691396117544538 |          0           |          0           |\n",
      "|     ponsol    | 0.017691396117544538 | 0.026721095436186674 | 0.028080107286786237 |\n",
      "|      plan     | 0.017691396117544538 | 0.05344219087237335  | 0.028080107286786237 |\n",
      "|    perform    |  0.0299541374565897  | 0.026721095436186674 | 0.036158250745717255 |\n",
      "|    percent    |  0.0299541374565897  | 0.034408275549450675 | 0.028080107286786237 |\n",
      "|      per      |  0.0299541374565897  | 0.034408275549450675 | 0.028080107286786237 |\n",
      "|      penc     |  0.0599082749131794  | 0.026721095436186674 | 0.25272096558107615  |\n",
      "|    payment    | 0.017691396117544538 | 0.026721095436186674 | 0.036158250745717255 |\n",
      "|      pay      | 0.017691396117544538 | 0.034408275549450675 | 0.056160214573572474 |\n",
      "|    patrick    | 0.035382792235089076 | 0.026721095436186674 | 0.028080107286786237 |\n",
      "|    patient    |  0.0299541374565897  | 0.026721095436186674 | 0.028080107286786237 |\n",
      "|    particip   |  0.0599082749131794  | 0.24048985892568006  | 0.028080107286786237 |\n",
      "|      pari     | 0.017691396117544538 | 0.034408275549450675 | 0.056160214573572474 |\n",
      "|      own      | 0.21229675341053444  | 0.05344219087237335  | 0.028080107286786237 |\n",
      "|      owe      |          0           | 0.026721095436186674 | 0.028080107286786237 |\n",
      "|    outstand   |          0           | 0.026721095436186674 | 0.028080107286786237 |\n",
      "|      oper     |  0.0299541374565897  | 0.026721095436186674 | 0.036158250745717255 |\n",
      "|      one      |  0.0599082749131794  | 0.05344219087237335  | 0.08424032186035871  |\n",
      "|     offer     | 0.035382792235089076 | 0.026721095436186674 | 0.11232042914714495  |\n",
      "|      note     | 0.017691396117544538 |          0           |          0           |\n",
      "|     nobodi    |  0.0299541374565897  |          0           |          0           |\n",
      "|      nine     | 0.017691396117544538 | 0.026721095436186674 | 0.028080107286786237 |\n",
      "|      next     | 0.017691396117544538 | 0.026721095436186674 | 0.028080107286786237 |\n",
      "|      news     |  0.0299541374565897  |          0           |          0           |\n",
      "|      new      | 0.05307418835263361  | 0.034408275549450675 | 0.028080107286786237 |\n",
      "|     negoti    | 0.035382792235089076 | 0.08016328630856003  | 0.028080107286786237 |\n",
      "|     nearli    | 0.017691396117544538 |  0.1068843817447467  | 0.028080107286786237 |\n",
      "|      name     | 0.017691396117544538 |          0           |          0           |\n",
      "|      n't      |  0.0599082749131794  |          0           |          0           |\n",
      "|    mountain   |          0           |          0           | 0.028080107286786237 |\n",
      "|     morton    | 0.12383977282281176  | 0.026721095436186674 | 0.028080107286786237 |\n",
      "|     month     | 0.10614837670526722  | 0.026721095436186674 | 0.028080107286786237 |\n",
      "|     monday    | 0.017691396117544538 | 0.026721095436186674 | 0.056160214573572474 |\n",
      "|    million    | 0.017691396117544538 |          0           |          0           |\n",
      "|      meet     |  0.0299541374565897  | 0.026721095436186674 | 0.028080107286786237 |\n",
      "|  medium-term  |          0           | 0.026721095436186674 |          0           |\n",
      "|     medium    |  0.0299541374565897  |          0           | 0.028080107286786237 |\n",
      "|      may      | 0.035382792235089076 | 0.026721095436186674 |  0.3088811801546486  |\n",
      "|    maximum    | 0.017691396117544538 |          0           |          0           |\n",
      "|     massiv    |  0.0299541374565897  |          0           |          0           |\n",
      "|     market    | 0.017691396117544538 | 0.026721095436186674 | 0.028080107286786237 |\n",
      "|      make     | 0.035382792235089076 | 0.026721095436186674 | 0.036158250745717255 |\n",
      "|     major     | 0.017691396117544538 |          0           |          0           |\n",
      "|      look     |  0.0299541374565897  |          0           |          0           |\n",
      "|   long-await  |  0.0299541374565897  | 0.05344219087237335  | 0.028080107286786237 |\n",
      "|     london    | 0.05307418835263361  | 0.026721095436186674 | 0.028080107286786237 |\n",
      "|      like     |  0.0299541374565897  |          0           |          0           |\n",
      "|    lifelin    | 0.017691396117544538 |          0           |          0           |\n",
      "|     level     | 0.017691396117544538 | 0.026721095436186674 | 0.056160214573572474 |\n",
      "|      less     |  0.0299541374565897  |          0           |          0           |\n",
      "|      leav     | 0.017691396117544538 | 0.29393204979805343  | 0.028080107286786237 |\n",
      "|     least     |  0.1769139611754454  |          0           |          0           |\n",
      "|      lead     |          0           | 0.026721095436186674 | 0.028080107286786237 |\n",
      "|      late     |          0           | 0.034408275549450675 | 0.036158250745717255 |\n",
      "|      last     | 0.017691396117544538 | 0.026721095436186674 | 0.028080107286786237 |\n",
      "|      keep     | 0.017691396117544538 |          0           |          0           |\n",
      "|      issu     | 0.017691396117544538 | 0.026721095436186674 | 0.028080107286786237 |\n",
      "|     invest    |  0.0299541374565897  |          0           |          0           |\n",
      "|    interest   | 0.035382792235089076 | 0.05344219087237335  | 0.028080107286786237 |\n",
      "|   instrument  |  0.0299541374565897  | 0.026721095436186674 | 0.036158250745717255 |\n",
      "|    instruct   |          0           | 0.026721095436186674 | 0.028080107286786237 |\n",
      "|     insolv    |          0           | 0.034408275549450675 | 0.028080107286786237 |\n",
      "|     ingeni    | 0.017691396117544538 |          0           |          0           |\n",
      "|      hope     | 0.017691396117544538 |          0           |          0           |\n",
      "|     holder    |          0           | 0.026721095436186674 | 0.028080107286786237 |\n",
      "|      hold     |  0.0299541374565897  |          0           |          0           |\n",
      "|     highli    |  0.0299541374565897  | 0.026721095436186674 | 0.028080107286786237 |\n",
      "|      help     |  0.0299541374565897  |          0           |          0           |\n",
      "|     happen    |  0.0299541374565897  |          0           |          0           |\n",
      "|      half     | 0.035382792235089076 | 0.026721095436186674 | 0.036158250745717255 |\n",
      "|     group     | 0.017691396117544538 |          0           |          0           |\n",
      "|     grant     | 0.017691396117544538 |          0           |          0           |\n",
      "|       go      | 0.035382792235089076 |          0           |          0           |\n",
      "|      give     |  0.0299541374565897  | 0.034408275549450675 | 0.036158250745717255 |\n",
      "|      get      |  0.0299541374565897  |          0           |          0           |\n",
      "|      game     | 0.017691396117544538 |          0           |          0           |\n",
      "|     futur     |  0.0299541374565897  | 0.026721095436186674 | 0.036158250745717255 |\n",
      "|      full     |          0           | 0.026721095436186674 | 0.028080107286786237 |\n",
      "|     french    |  0.0299541374565897  | 0.026721095436186674 | 0.11232042914714495  |\n",
      "|      free     |  0.0299541374565897  | 0.026721095436186674 | 0.028080107286786237 |\n",
      "|     franc     | 0.017691396117544538 | 0.034408275549450675 | 0.056160214573572474 |\n",
      "|    forward    |  0.0299541374565897  |          0           |          0           |\n",
      "|    formula    |  0.0299541374565897  |          0           |          0           |\n",
      "|     follow    |          0           | 0.034408275549450675 | 0.036158250745717255 |\n",
      "|      flow     | 0.017691396117544538 |          0           |          0           |\n",
      "|      fix      |  0.0299541374565897  |          0           |          0           |\n",
      "|     first     |  0.0299541374565897  | 0.034408275549450675 | 0.036158250745717255 |\n",
      "|      firm     |  0.0299541374565897  | 0.026721095436186674 | 0.028080107286786237 |\n",
      "|      find     | 0.017691396117544538 |          0           |          0           |\n",
      "|    financi    | 0.12383977282281176  |  0.1068843817447467  | 0.028080107286786237 |\n",
      "|     financ    |  0.0599082749131794  |          0           |          0           |\n",
      "|    finalis    | 0.05307418835263361  | 0.026721095436186674 | 0.056160214573572474 |\n",
      "|     ferri     |  0.0299541374565897  | 0.05344219087237335  | 0.028080107286786237 |\n",
      "|     extend    |          0           | 0.034408275549450675 | 0.028080107286786237 |\n",
      "|     exist     | 0.017691396117544538 | 0.034408275549450675 | 0.028080107286786237 |\n",
      "|   eurotunnel  |  0.0299541374565897  | 0.026721095436186674 | 0.028080107286786237 |\n",
      "|    european   | 0.017691396117544538 | 0.026721095436186674 | 0.036158250745717255 |\n",
      "|     equiti    |  0.0299541374565897  |          0           |          0           |\n",
      "|     entitl    | 0.017691396117544538 | 0.05344219087237335  | 0.028080107286786237 |\n",
      "|      end      |  0.0299541374565897  | 0.026721095436186674 | 0.08424032186035871  |\n",
      "|     eight     |  0.0299541374565897  |          0           |          0           |\n",
      "|     earli     | 0.017691396117544538 | 0.026721095436186674 | 0.056160214573572474 |\n",
      "|     dwindl    | 0.017691396117544538 |          0           |          0           |\n",
      "|    doomsday   |  0.0299541374565897  |          0           |          0           |\n",
      "|      done     |  0.0299541374565897  | 0.026721095436186674 | 0.028080107286786237 |\n",
      "|    dividend   | 0.017691396117544538 | 0.026721095436186674 | 0.04754375448244289  |\n",
      "|     dilut     | 0.017691396117544538 | 0.04524274739925269  | 0.028080107286786237 |\n",
      "|   difficult   |  0.0299541374565897  |          0           |          0           |\n",
      "|    develop    |  0.0299541374565897  | 0.026721095436186674 | 0.056160214573572474 |\n",
      "|     detail    | 0.017691396117544538 | 0.08016328630856003  | 0.028080107286786237 |\n",
      "|     despit    | 0.022780893617205138 |          0           |          0           |\n",
      "|    depreci    | 0.017691396117544538 |          0           |          0           |\n",
      "|     decemb    | 0.08986241236976909  | 0.05344219087237335  | 0.028080107286786237 |\n",
      "|  debt-for-equ | 0.035382792235089076 | 0.026721095436186674 | 0.028080107286786237 |\n",
      "|      debt     | 0.017691396117544538 | 0.026721095436186674 | 0.028080107286786237 |\n",
      "|      deal     | 0.07076558447017815  | 0.05344219087237335  | 0.028080107286786237 |\n",
      "|      date     |          0           | 0.026721095436186674 | 0.08424032186035871  |\n",
      "|    current    |  0.0299541374565897  |          0           |          0           |\n",
      "| cross-channel |  0.0299541374565897  | 0.026721095436186674 | 0.036158250745717255 |\n",
      "|     crippl    | 0.035382792235089076 | 0.026721095436186674 | 0.036158250745717255 |\n",
      "|    creditor   | 0.017691396117544538 | 0.026721095436186674 | 0.028080107286786237 |\n",
      "|     could     | 0.017691396117544538 | 0.026721095436186674 | 0.028080107286786237 |\n",
      "|      cost     |  0.0599082749131794  |          0           |          0           |\n",
      "|    convert    | 0.017691396117544538 | 0.08016328630856003  | 0.028080107286786237 |\n",
      "|   construct   | 0.035382792235089076 | 0.034408275549450675 | 0.028080107286786237 |\n",
      "|   constitut   |  0.0599082749131794  |          0           |          0           |\n",
      "|    consolid   | 0.08986241236976909  | 0.034408275549450675 | 0.028080107286786237 |\n",
      "|    consider   | 0.017691396117544538 | 0.026721095436186674 | 0.028080107286786237 |\n",
      "|     confer    | 0.017691396117544538 |          0           |          0           |\n",
      "|   compromis   |          0           | 0.026721095436186674 | 0.028080107286786237 |\n",
      "|    complex    | 0.05307418835263361  |          0           |          0           |\n",
      "|    compani    | 0.017691396117544538 | 0.026721095436186674 | 0.08424032186035871  |\n",
      "|    commerci   | 0.035382792235089076 | 0.026721095436186674 | 0.028080107286786237 |\n",
      "|      come     | 0.017691396117544538 |          0           |          0           |\n",
      "|    collaps    | 0.017691396117544538 |          0           |          0           |\n",
      "|  co-chairman  | 0.017691396117544538 | 0.026721095436186674 | 0.08424032186035871  |\n",
      "|      co-      |          0           | 0.026721095436186674 | 0.028080107286786237 |\n",
      "|     choos     | 0.05307418835263361  | 0.026721095436186674 | 0.08424032186035871  |\n",
      "|    channel    | 0.035382792235089076 | 0.08016328630856003  | 0.028080107286786237 |\n",
      "|    chairman   |          0           | 0.026721095436186674 |  0.1404005364339312  |\n",
      "|      cash     | 0.05307418835263361  |          0           |          0           |\n",
      "|      cap      | 0.017691396117544538 |          0           |          0           |\n",
      "|      call     |          0           | 0.08016328630856003  | 0.028080107286786237 |\n",
      "|       ca      | 0.05307418835263361  |          0           |          0           |\n",
      "|    busiest    | 0.035382792235089076 |          0           |          0           |\n",
      "|     brink     | 0.035382792235089076 | 0.026721095436186674 | 0.028080107286786237 |\n",
      "|     bring     | 0.017691396117544538 | 0.08016328630856003  | 0.028080107286786237 |\n",
      "|    brighter   |  0.0299541374565897  | 0.026721095436186674 | 0.028080107286786237 |\n",
      "|      bond     |  0.1415311689403563  |          0           |          0           |\n",
      "|    billion    |  0.0299541374565897  |  0.1068843817447467  | 0.036158250745717255 |\n",
      "|      bill     | 0.017691396117544538 |          0           |          0           |\n",
      "|    benefit    |          0           | 0.026721095436186674 | 0.08424032186035871  |\n",
      "|     becom     | 0.017691396117544538 |          0           |          0           |\n",
      "|   bankruptci  | 0.017691396117544538 |          0           |          0           |\n",
      "|      bank     | 0.017691396117544538 | 0.026721095436186674 | 0.028080107286786237 |\n",
      "|      back     | 0.035382792235089076 | 0.026721095436186674 | 0.08424032186035871  |\n",
      "|     avoid     |  0.0299541374565897  |          0           |          0           |\n",
      "|     avail     | 0.05307418835263361  |          0           |          0           |\n",
      "|      ask      | 0.017691396117544538 |          0           |          0           |\n",
      "|     arrang    | 0.017691396117544538 |          0           |          0           |\n",
      "|     around    | 0.017691396117544538 | 0.026721095436186674 | 0.028080107286786237 |\n",
      "|     approv    |  0.0299541374565897  | 0.034408275549450675 | 0.028080107286786237 |\n",
      "|     annual    |  0.0299541374565897  |          0           |          0           |\n",
      "|    announc    |  0.0299541374565897  | 0.08016328630856003  | 0.036158250745717255 |\n",
      "|     angri     | 0.022780893617205138 |          0           |          0           |\n",
      "|  anglo-french | 0.15922256505790083  | 0.026721095436186674 |  0.2246408582942899  |\n",
      "|    analyst    |  0.0299541374565897  |          0           |          0           |\n",
      "|    although   |  0.0299541374565897  | 0.08016328630856003  | 0.036158250745717255 |\n",
      "|    alreadi    | 0.017691396117544538 |          0           |          0           |\n",
      "|     allow     |  0.0299541374565897  | 0.026721095436186674 | 0.028080107286786237 |\n",
      "|    alastair   |  0.0299541374565897  | 0.026721095436186674 | 0.08424032186035871  |\n",
      "|     ahead     | 0.035382792235089076 |  0.2137687634894934  | 0.16848064372071742  |\n",
      "|      agre     | 0.12383977282281176  | 0.034408275549450675 | 0.028080107286786237 |\n",
      "|     afford    | 0.017691396117544538 |          0           |          0           |\n",
      "|     admit     |  0.0299541374565897  |          0           |          0           |\n",
      "|       ad      | 0.017691396117544538 | 0.026721095436186674 | 0.036158250745717255 |\n",
      "|     achiev    |          0           | 0.08016328630856003  | 0.028080107286786237 |\n",
      "|     accept    |          0           | 0.16032657261712005  | 0.036158250745717255 |\n",
      "|      abl      |  0.0599082749131794  | 0.026721095436186674 | 0.028080107286786237 |\n",
      "|      abil     | 0.022780893617205138 |          0           |          0           |\n",
      "|       ``      | 0.05307418835263361  | 0.034408275549450675 | 0.028080107286786237 |\n",
      "|      8.7      |          0           | 0.026721095436186674 | 0.028080107286786237 |\n",
      "|      54.5     | 0.017691396117544538 | 0.026721095436186674 | 0.028080107286786237 |\n",
      "|      5.8      |          0           | 0.026721095436186674 |          0           |\n",
      "|      45.5     | 0.017691396117544538 | 0.026721095436186674 | 0.036158250745717255 |\n",
      "|      400      | 0.017691396117544538 |          0           |          0           |\n",
      "|       39      | 0.017691396117544538 | 0.026721095436186674 | 0.036158250745717255 |\n",
      "|      3.7      |  0.0299541374565897  | 0.034408275549450675 | 0.028080107286786237 |\n",
      "|       24      |          0           | 0.034408275549450675 | 0.028080107286786237 |\n",
      "|      225      | 0.035382792235089076 | 0.026721095436186674 | 0.036158250745717255 |\n",
      "|      2004     | 0.035382792235089076 |          0           |          0           |\n",
      "|     2003.     | 0.017691396117544538 | 0.026721095436186674 | 0.028080107286786237 |\n",
      "|      200      |  0.0299541374565897  |          0           |          0           |\n",
      "|    1=.6393    | 0.022780893617205138 |          0           | 0.028080107286786237 |\n",
      "|     1997.     |  0.0299541374565897  | 0.034408275549450675 | 0.036158250745717255 |\n",
      "|      160      |  0.0299541374565897  | 0.026721095436186674 | 0.028080107286786237 |\n",
      "|      150      |  0.0599082749131794  |          0           |          0           |\n",
      "|      14.1     |          0           | 0.026721095436186674 |          0           |\n",
      "|      130      | 0.017691396117544538 | 0.026721095436186674 | 0.028080107286786237 |\n",
      "|      13.6     |          0           | 0.026721095436186674 |          0           |\n",
      "|     113.5     | 0.017691396117544538 | 0.05344219087237335  | 0.056160214573572474 |\n",
      "|     10.40     | 0.035382792235089076 | 0.034408275549450675 | 0.036158250745717255 |\n",
      "|       10      | 0.017691396117544538 | 0.026721095436186674 | 0.028080107286786237 |\n",
      "|      1.85     |  0.0299541374565897  |          0           |          0           |\n",
      "|      1.6      |  0.0299541374565897  |          0           |          0           |\n",
      "|      1.56     |          0           | 0.026721095436186674 | 0.028080107286786237 |\n",
      "|      1.0      |  0.0599082749131794  | 0.08016328630856003  | 0.08424032186035871  |\n",
      "|       .       | 0.017691396117544538 | 0.026721095436186674 | 0.028080107286786237 |\n",
      "|       --      | 0.017691396117544538 |          0           |          0           |\n",
      "|       ,       |  0.0299541374565897  | 0.026721095436186674 | 0.028080107286786237 |\n",
      "|       )       | 0.017691396117544538 | 0.026721095436186674 | 0.028080107286786237 |\n",
      "|       (       | 0.017691396117544538 | 0.026721095436186674 | 0.028080107286786237 |\n",
      "|       's      | 0.017691396117544538 |  0.1068843817447467  | 0.11232042914714495  |\n",
      "|       'm      | 0.017691396117544538 |          0           |          0           |\n",
      "|       ''      | 0.12383977282281176  | 0.034408275549450675 | 0.036158250745717255 |\n",
      "|       '       | 0.017691396117544538 | 0.026721095436186674 | 0.028080107286786237 |\n",
      "|       $       | 0.10614837670526722  | 0.026721095436186674 | 0.028080107286786237 |\n",
      "+---------------+----------------------+----------------------+----------------------+\n"
     ]
    }
   ],
   "source": [
    "from prettytable import PrettyTable\n",
    "import numpy as np\n",
    "\n",
    "table = PrettyTable()\n",
    "\n",
    "table.field_names = [\"Terms\", \"t1\", \"t2\", \"t3\"]\n",
    "\n",
    "i = len(t1.data) - 1\n",
    "j = len(t2.data) - 1\n",
    "k = len(t3.data) - 1\n",
    "\n",
    "v1 = [[],[],[],[],[],[],[],[],[],[],[],[],[],[],[]]\n",
    "v2 = [[],[],[],[],[],[],[],[],[],[],[],[],[],[],[]]\n",
    "v3 = [[],[],[],[],[],[],[],[],[],[],[],[],[],[],[]]\n",
    "\n",
    "count = 0\n",
    "\n",
    "for x in range(max(t1.indices[0], t2.indices[0], t3.indices[0]), -1, -1):\n",
    "\n",
    "  if x in t1.indices:\n",
    "    d1 = t1.data[i]\n",
    "    i = i-1\n",
    "  else:\n",
    "    d1 = 0\n",
    "\n",
    "  if x in t2.indices:\n",
    "    d2 = t2.data[j]\n",
    "    j = j-1\n",
    "  else:\n",
    "    d2 = 0\n",
    "\n",
    "  if x in t3.indices:\n",
    "    d3 = t3.data[k]\n",
    "    k = k-1\n",
    "  else:\n",
    "    d3 = 0\n",
    "\n",
    "  table.add_row([feature_names[x], d1, d2, d3])\n",
    "\n",
    "  index = int(np.floor(count/19))\n",
    "\n",
    "  v1[index].append(d1)\n",
    "  v2[index].append(d2)\n",
    "  v3[index].append(d3)\n",
    "\n",
    "  count += 1\n",
    "\n",
    "\n",
    "print(\"Document-Word Matrix\")\n",
    "print(table)\n"
   ]
  },
  {
   "cell_type": "markdown",
   "metadata": {
    "id": "WJ-YlUmb0ZnE"
   },
   "source": [
    "The code below generates a heatmap using the tf-idf vector of text 1."
   ]
  },
  {
   "cell_type": "code",
   "execution_count": 128,
   "metadata": {
    "colab": {
     "base_uri": "https://localhost:8080/",
     "height": 428
    },
    "id": "AM1-wvYyrmwk",
    "outputId": "ae4a0ec9-e380-43c4-b5f1-81c9971eaa1b"
   },
   "outputs": [
    {
     "data": {
      "image/png": "[encoded data removed]",
      "text/plain": [
       "<Figure size 640x480 with 1 Axes>"
      ]
     },
     "metadata": {},
     "output_type": "display_data"
    }
   ],
   "source": [
    "import matplotlib.pyplot as plt\n",
    "\n",
    "plt.imshow(v1, cmap='hot', interpolation='nearest')\n",
    "plt.title('Heatmap from Text 1 tf-idf values')\n",
    "plt.axis('off')\n",
    "plt.show()"
   ]
  },
  {
   "cell_type": "markdown",
   "metadata": {
    "id": "z6f3GfL-0ags"
   },
   "source": [
    "The code below generates a heatmap using the tf-idf vector of text 2."
   ]
  },
  {
   "cell_type": "code",
   "execution_count": 129,
   "metadata": {
    "colab": {
     "base_uri": "https://localhost:8080/",
     "height": 428
    },
    "id": "mb1mQbqQuNXp",
    "outputId": "defa7b4b-7102-4b23-8230-15123c6611fb"
   },
   "outputs": [
    {
     "data": {
      "image/png": "[encoded data removed]",
      "text/plain": [
       "<Figure size 640x480 with 1 Axes>"
      ]
     },
     "metadata": {},
     "output_type": "display_data"
    }
   ],
   "source": [
    "plt.imshow(v2, cmap='hot', interpolation='nearest')\n",
    "plt.axis('off')\n",
    "plt.title('Heatmap from Text 2 tf-idf values')\n",
    "plt.show()"
   ]
  },
  {
   "cell_type": "markdown",
   "metadata": {
    "id": "ITnFCn3m0cF3"
   },
   "source": [
    "The code below generates a heatmap using the tf-idf vector of text 3."
   ]
  },
  {
   "cell_type": "code",
   "execution_count": 130,
   "metadata": {
    "colab": {
     "base_uri": "https://localhost:8080/",
     "height": 428
    },
    "id": "FmKYkavKuPDv",
    "outputId": "ff3e52f8-e01f-4683-cab6-de391a8b8098"
   },
   "outputs": [
    {
     "data": {
      "image/png": "[encoded data removed]",
      "text/plain": [
       "<Figure size 640x480 with 1 Axes>"
      ]
     },
     "metadata": {},
     "output_type": "display_data"
    }
   ],
   "source": [
    "plt.imshow(v3, cmap='hot', interpolation='nearest')\n",
    "plt.axis('off')\n",
    "plt.title('Heatmap from Text 3 tf-idf values')\n",
    "plt.show()"
   ]
  },
  {
   "cell_type": "markdown",
   "metadata": {
    "id": "oRDbYgWP7IJi"
   },
   "source": [
    "## **Part 4**\n",
    "### Calculate pairwise cosine similarity for the documents"
   ]
  },
  {
   "cell_type": "markdown",
   "metadata": {
    "id": "Xg3ujBGEdzle"
   },
   "source": [
    "![cosine.png](data:image/png;base64,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)"
   ]
  },
  {
   "cell_type": "markdown",
   "metadata": {
    "id": "g2PVb595dzyv"
   },
   "source": [
    "*The cosine similarity of two document's tf-idf vectors represents how similar they are.*\n",
    "\n",
    "\n",
    "---"
   ]
  },
  {
   "cell_type": "markdown",
   "metadata": {
    "id": "8ZKJjGZs0liW"
   },
   "source": [
    "The code below calculates the cosine similarity of each document and prints it."
   ]
  },
  {
   "cell_type": "code",
   "execution_count": 134,
   "metadata": {
    "colab": {
     "base_uri": "https://localhost:8080/"
    },
    "id": "cFB3ZGOjz-0N",
    "outputId": "22557e69-a781-4673-c4db-26722cf45567"
   },
   "outputs": [
    {
     "name": "stdout",
     "output_type": "stream",
     "text": [
      "Cosine similarity between t1 and t2:\n",
      "------------------------------------\n",
      "0.8187743943854953\n",
      "\n",
      "Cosine similarity between t1 and t3:\n",
      "------------------------------------\n",
      "0.8391995483557352\n",
      "\n",
      "Cosine similarity between t2 and t3:\n",
      "------------------------------------\n",
      "0.9752383249870626\n"
     ]
    }
   ],
   "source": [
    "from sklearn.metrics.pairwise import cosine_similarity\n",
    "\n",
    "print(\"Cosine similarity between t1 and t2:\")\n",
    "print(\"------------------------------------\")\n",
    "print(cosine_similarity(t1, t2)[0][0])\n",
    "print()\n",
    "\n",
    "print(\"Cosine similarity between t1 and t3:\")\n",
    "print(\"------------------------------------\")\n",
    "print(cosine_similarity(t1, t3)[0][0])\n",
    "print()\n",
    "\n",
    "print(\"Cosine similarity between t2 and t3:\")\n",
    "print(\"------------------------------------\")\n",
    "print(cosine_similarity(t2, t3)[0][0])"
   ]
  },
  {
   "cell_type": "markdown",
   "metadata": {
    "id": "8aFArK3q2lyx"
   },
   "source": [
    "## Discussions and Conclusions\n",
    "\n",
    "---\n"
   ]
  },
  {
   "cell_type": "markdown",
   "metadata": {
    "id": "Egfu3Jk73jwU"
   },
   "source": [
    "Overall, documents 2 and 3 are deemed most similar through the cosine similarity of their tf-idf vectors, which aligns with the intuition gained by reading all three documents. Documents 2 and 3 are nearly the same, expect for a few different words, which aligns with the 0.97 similarity score. Document 1 contains more differences from 2 and 3, which aligns with the ~0.82-0.84 similarity scores respectively. Heatmaps 2 and 3 also appear more similar than 1 and 2 or 1 and 3, which supports the cosine similarity scores obtained."
   ]
  },
  {
   "cell_type": "markdown",
   "metadata": {
    "id": "6qvdH3Aw2r2j"
   },
   "source": [
    "## References\n",
    "\n",
    "---"
   ]
  },
  {
   "cell_type": "markdown",
   "metadata": {
    "id": "Jim4wWq321vV"
   },
   "source": [
    "\n",
    "\n",
    "*   https://scikit-learn.org/stable/index.html\n",
    "*   https://www.nltk.org/\n",
    "*   https://python.plainenglish.io/introduction-to-nltk-library-in-python-6fa729b54ad\n",
    "*   https://medium.com/@ajay_khanna/tokenization-techniques-in-natural-language-processing-67bb22088c75\n",
    "*   https://ted-mei.medium.com/demystify-tf-idf-in-indexing-and-ranking-5c3ae88c3fa0\n",
    "*   https://www.oreilly.com/library/view/statistics-for-machine/9781788295758/eb9cd609-e44a-40a2-9c3a-f16fc4f5289a.xhtml\n",
    "\n"
   ]
  }
 ],
 "metadata": {
  "colab": {
   "provenance": [],
   "toc_visible": true
  },
  "kernelspec": {
   "display_name": "Python 3 (ipykernel)",
   "language": "python",
   "name": "python3"
  },
  "language_info": {
   "codemirror_mode": {
    "name": "ipython",
    "version": 3
   },
   "file_extension": ".py",
   "mimetype": "text/x-python",
   "name": "python",
   "nbconvert_exporter": "python",
   "pygments_lexer": "ipython3",
   "version": "3.11.4"
  }
 },
 "nbformat": 4,
 "nbformat_minor": 4
}
